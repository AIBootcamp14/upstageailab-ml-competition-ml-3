{
 "cells": [
  {
   "cell_type": "code",
   "execution_count": 1,
   "id": "7cc1aee3",
   "metadata": {},
   "outputs": [
    {
     "name": "stdout",
     "output_type": "stream",
     "text": [
      "Requirement already satisfied: eli5==0.13.0 in /opt/anaconda3/envs/real_estate_pred/lib/python3.9/site-packages (0.13.0)\n",
      "Requirement already satisfied: attrs>17.1.0 in /opt/anaconda3/envs/real_estate_pred/lib/python3.9/site-packages (from eli5==0.13.0) (25.3.0)\n",
      "Requirement already satisfied: jinja2>=3.0.0 in /opt/anaconda3/envs/real_estate_pred/lib/python3.9/site-packages (from eli5==0.13.0) (3.1.6)\n",
      "Requirement already satisfied: numpy>=1.9.0 in /opt/anaconda3/envs/real_estate_pred/lib/python3.9/site-packages (from eli5==0.13.0) (1.26.4)\n",
      "Requirement already satisfied: scipy in /opt/anaconda3/envs/real_estate_pred/lib/python3.9/site-packages (from eli5==0.13.0) (1.13.1)\n",
      "Requirement already satisfied: six in /opt/anaconda3/envs/real_estate_pred/lib/python3.9/site-packages (from eli5==0.13.0) (1.17.0)\n",
      "Requirement already satisfied: scikit-learn>=0.20 in /opt/anaconda3/envs/real_estate_pred/lib/python3.9/site-packages (from eli5==0.13.0) (1.6.1)\n",
      "Requirement already satisfied: graphviz in /opt/anaconda3/envs/real_estate_pred/lib/python3.9/site-packages (from eli5==0.13.0) (0.21)\n",
      "Requirement already satisfied: tabulate>=0.7.7 in /opt/anaconda3/envs/real_estate_pred/lib/python3.9/site-packages (from eli5==0.13.0) (0.9.0)\n",
      "Requirement already satisfied: MarkupSafe>=2.0 in /opt/anaconda3/envs/real_estate_pred/lib/python3.9/site-packages (from jinja2>=3.0.0->eli5==0.13.0) (3.0.2)\n",
      "Requirement already satisfied: joblib>=1.2.0 in /opt/anaconda3/envs/real_estate_pred/lib/python3.9/site-packages (from scikit-learn>=0.20->eli5==0.13.0) (1.5.1)\n",
      "Requirement already satisfied: threadpoolctl>=3.1.0 in /opt/anaconda3/envs/real_estate_pred/lib/python3.9/site-packages (from scikit-learn>=0.20->eli5==0.13.0) (3.6.0)\n"
     ]
    }
   ],
   "source": [
    "!pip install eli5==0.13.0\n"
   ]
  },
  {
   "cell_type": "code",
   "execution_count": 2,
   "id": "eadb47b1",
   "metadata": {},
   "outputs": [],
   "source": [
    "# visualization\n",
    "import matplotlib.pyplot as plt\n",
    "import matplotlib.font_manager as fm\n",
    "fe = fm.FontEntry(\n",
    "    fname=r'/Users/chung/Library/Fonts/NanumGothic.otf', \n",
    "    name='NanumGothic')                     \n",
    "fm.fontManager.ttflist.insert(0, fe)              # Matplotlib에 폰트 추가 (0,fe):가장 우선순위로 추가하겠다는 뜻\n",
    "plt.rcParams.update({'font.size': 11, 'font.family': 'NanumGothic'}) # 폰트 설정\n",
    "plt.rc('font', family='NanumGothic')\n",
    "import seaborn as sns"
   ]
  },
  {
   "cell_type": "code",
   "execution_count": 3,
   "id": "66a37a9a",
   "metadata": {},
   "outputs": [],
   "source": [
    "# utils\n",
    "import pandas as pd\n",
    "import numpy as np"
   ]
  },
  {
   "cell_type": "markdown",
   "id": "89e943c1",
   "metadata": {},
   "source": [
    "## concat (train + test)"
   ]
  },
  {
   "cell_type": "code",
   "execution_count": 4,
   "id": "e9c9621b",
   "metadata": {},
   "outputs": [
    {
     "name": "stderr",
     "output_type": "stream",
     "text": [
      "/var/folders/4p/hmdj4xxd5pq0wsbrrldmys4c0000gn/T/ipykernel_82987/1178692829.py:7: DtypeWarning: Columns (16,17,36) have mixed types. Specify dtype option on import or set low_memory=False.\n",
      "  dt = pd.read_csv(train_path)\n"
     ]
    }
   ],
   "source": [
    "pd.set_option('display.max_columns', None)   # 컬럼 모두 보이기\n",
    "pd.set_option('display.max_colwidth', None)  # 컬럼명 길어도 다 보이기\n",
    "\n",
    "# 필요한 데이터를 load. 경로는 환경에 맞게 지정한다.\n",
    "train_path = '/Users/chung/JupyterNotebook/ML 경진대회/data/train.csv'\n",
    "test_path  = '/Users/chung/JupyterNotebook/ML 경진대회/data/test.csv'\n",
    "dt = pd.read_csv(train_path)\n",
    "dt_test = pd.read_csv(test_path)\n"
   ]
  },
  {
   "cell_type": "code",
   "execution_count": 5,
   "id": "22278ae5",
   "metadata": {},
   "outputs": [],
   "source": [
    "# train/test 구분을 위한 칼럼을 하나 만들어 줍니다.\n",
    "dt['data_type'] = 'train'\n",
    "dt_test['data_type'] = 'test'\n",
    "\n",
    "concat = pd.concat([dt, dt_test])     # 하나의 데이터로 만들어줍니다."
   ]
  },
  {
   "cell_type": "code",
   "execution_count": 6,
   "id": "e22c6c7e",
   "metadata": {},
   "outputs": [
    {
     "data": {
      "text/html": [
       "<div>\n",
       "<style scoped>\n",
       "    .dataframe tbody tr th:only-of-type {\n",
       "        vertical-align: middle;\n",
       "    }\n",
       "\n",
       "    .dataframe tbody tr th {\n",
       "        vertical-align: top;\n",
       "    }\n",
       "\n",
       "    .dataframe thead th {\n",
       "        text-align: right;\n",
       "    }\n",
       "</style>\n",
       "<table border=\"1\" class=\"dataframe\">\n",
       "  <thead>\n",
       "    <tr style=\"text-align: right;\">\n",
       "      <th></th>\n",
       "      <th>시군구</th>\n",
       "      <th>번지</th>\n",
       "      <th>본번</th>\n",
       "      <th>부번</th>\n",
       "      <th>아파트명</th>\n",
       "      <th>전용면적(㎡)</th>\n",
       "      <th>계약년월</th>\n",
       "      <th>계약일</th>\n",
       "      <th>층</th>\n",
       "      <th>건축년도</th>\n",
       "      <th>도로명</th>\n",
       "      <th>해제사유발생일</th>\n",
       "      <th>등기신청일자</th>\n",
       "      <th>거래유형</th>\n",
       "      <th>중개사소재지</th>\n",
       "      <th>k-단지분류(아파트,주상복합등등)</th>\n",
       "      <th>k-전화번호</th>\n",
       "      <th>k-팩스번호</th>\n",
       "      <th>단지소개기존clob</th>\n",
       "      <th>k-세대타입(분양형태)</th>\n",
       "      <th>k-관리방식</th>\n",
       "      <th>k-복도유형</th>\n",
       "      <th>k-난방방식</th>\n",
       "      <th>k-전체동수</th>\n",
       "      <th>k-전체세대수</th>\n",
       "      <th>k-건설사(시공사)</th>\n",
       "      <th>k-시행사</th>\n",
       "      <th>k-사용검사일-사용승인일</th>\n",
       "      <th>k-연면적</th>\n",
       "      <th>k-주거전용면적</th>\n",
       "      <th>k-관리비부과면적</th>\n",
       "      <th>k-전용면적별세대현황(60㎡이하)</th>\n",
       "      <th>k-전용면적별세대현황(60㎡~85㎡이하)</th>\n",
       "      <th>k-85㎡~135㎡이하</th>\n",
       "      <th>k-135㎡초과</th>\n",
       "      <th>k-홈페이지</th>\n",
       "      <th>k-등록일자</th>\n",
       "      <th>k-수정일자</th>\n",
       "      <th>고용보험관리번호</th>\n",
       "      <th>경비비관리형태</th>\n",
       "      <th>세대전기계약방법</th>\n",
       "      <th>청소비관리형태</th>\n",
       "      <th>건축면적</th>\n",
       "      <th>주차대수</th>\n",
       "      <th>기타/의무/임대/임의=1/2/3/4</th>\n",
       "      <th>단지승인일</th>\n",
       "      <th>사용허가여부</th>\n",
       "      <th>관리비 업로드</th>\n",
       "      <th>좌표X</th>\n",
       "      <th>좌표Y</th>\n",
       "      <th>단지신청일</th>\n",
       "      <th>target</th>\n",
       "      <th>data_type</th>\n",
       "    </tr>\n",
       "  </thead>\n",
       "  <tbody>\n",
       "    <tr>\n",
       "      <th>0</th>\n",
       "      <td>서울특별시 강남구 개포동</td>\n",
       "      <td>658-1</td>\n",
       "      <td>658.0</td>\n",
       "      <td>1.0</td>\n",
       "      <td>개포6차우성</td>\n",
       "      <td>79.97</td>\n",
       "      <td>201712</td>\n",
       "      <td>8</td>\n",
       "      <td>3</td>\n",
       "      <td>1987</td>\n",
       "      <td>언주로 3</td>\n",
       "      <td>NaN</td>\n",
       "      <td></td>\n",
       "      <td>-</td>\n",
       "      <td>-</td>\n",
       "      <td>아파트</td>\n",
       "      <td>025776611</td>\n",
       "      <td>025776673</td>\n",
       "      <td>NaN</td>\n",
       "      <td>분양</td>\n",
       "      <td>자치관리</td>\n",
       "      <td>계단식</td>\n",
       "      <td>개별난방</td>\n",
       "      <td>8.0</td>\n",
       "      <td>270.0</td>\n",
       "      <td>우성건설</td>\n",
       "      <td>모름</td>\n",
       "      <td>1987-11-21 00:00:00.0</td>\n",
       "      <td>22637.0</td>\n",
       "      <td>20204.0</td>\n",
       "      <td>22637.0</td>\n",
       "      <td>20.0</td>\n",
       "      <td>250.0</td>\n",
       "      <td>0.0</td>\n",
       "      <td>NaN</td>\n",
       "      <td>NaN</td>\n",
       "      <td>2022-11-09 20:10:43.0</td>\n",
       "      <td>2023-09-23 17:21:41.0</td>\n",
       "      <td>NaN</td>\n",
       "      <td>직영</td>\n",
       "      <td>단일계약</td>\n",
       "      <td>직영</td>\n",
       "      <td>4858.0</td>\n",
       "      <td>262.0</td>\n",
       "      <td>임의</td>\n",
       "      <td>2022-11-17 13:00:29.0</td>\n",
       "      <td>Y</td>\n",
       "      <td>N</td>\n",
       "      <td>127.05721</td>\n",
       "      <td>37.476763</td>\n",
       "      <td>2022-11-17 10:19:06.0</td>\n",
       "      <td>124000.0</td>\n",
       "      <td>train</td>\n",
       "    </tr>\n",
       "    <tr>\n",
       "      <th>1</th>\n",
       "      <td>서울특별시 강남구 개포동</td>\n",
       "      <td>658-1</td>\n",
       "      <td>658.0</td>\n",
       "      <td>1.0</td>\n",
       "      <td>개포6차우성</td>\n",
       "      <td>79.97</td>\n",
       "      <td>201712</td>\n",
       "      <td>22</td>\n",
       "      <td>4</td>\n",
       "      <td>1987</td>\n",
       "      <td>언주로 3</td>\n",
       "      <td>NaN</td>\n",
       "      <td></td>\n",
       "      <td>-</td>\n",
       "      <td>-</td>\n",
       "      <td>아파트</td>\n",
       "      <td>025776611</td>\n",
       "      <td>025776673</td>\n",
       "      <td>NaN</td>\n",
       "      <td>분양</td>\n",
       "      <td>자치관리</td>\n",
       "      <td>계단식</td>\n",
       "      <td>개별난방</td>\n",
       "      <td>8.0</td>\n",
       "      <td>270.0</td>\n",
       "      <td>우성건설</td>\n",
       "      <td>모름</td>\n",
       "      <td>1987-11-21 00:00:00.0</td>\n",
       "      <td>22637.0</td>\n",
       "      <td>20204.0</td>\n",
       "      <td>22637.0</td>\n",
       "      <td>20.0</td>\n",
       "      <td>250.0</td>\n",
       "      <td>0.0</td>\n",
       "      <td>NaN</td>\n",
       "      <td>NaN</td>\n",
       "      <td>2022-11-09 20:10:43.0</td>\n",
       "      <td>2023-09-23 17:21:41.0</td>\n",
       "      <td>NaN</td>\n",
       "      <td>직영</td>\n",
       "      <td>단일계약</td>\n",
       "      <td>직영</td>\n",
       "      <td>4858.0</td>\n",
       "      <td>262.0</td>\n",
       "      <td>임의</td>\n",
       "      <td>2022-11-17 13:00:29.0</td>\n",
       "      <td>Y</td>\n",
       "      <td>N</td>\n",
       "      <td>127.05721</td>\n",
       "      <td>37.476763</td>\n",
       "      <td>2022-11-17 10:19:06.0</td>\n",
       "      <td>123500.0</td>\n",
       "      <td>train</td>\n",
       "    </tr>\n",
       "  </tbody>\n",
       "</table>\n",
       "</div>"
      ],
      "text/plain": [
       "             시군구     번지     본번   부번    아파트명  전용면적(㎡)    계약년월  계약일  층  건축년도  \\\n",
       "0  서울특별시 강남구 개포동  658-1  658.0  1.0  개포6차우성    79.97  201712    8  3  1987   \n",
       "1  서울특별시 강남구 개포동  658-1  658.0  1.0  개포6차우성    79.97  201712   22  4  1987   \n",
       "\n",
       "     도로명  해제사유발생일 등기신청일자 거래유형 중개사소재지 k-단지분류(아파트,주상복합등등)     k-전화번호     k-팩스번호  \\\n",
       "0  언주로 3      NaN           -      -                아파트  025776611  025776673   \n",
       "1  언주로 3      NaN           -      -                아파트  025776611  025776673   \n",
       "\n",
       "   단지소개기존clob k-세대타입(분양형태) k-관리방식 k-복도유형 k-난방방식  k-전체동수  k-전체세대수 k-건설사(시공사)  \\\n",
       "0         NaN           분양   자치관리    계단식   개별난방     8.0    270.0       우성건설   \n",
       "1         NaN           분양   자치관리    계단식   개별난방     8.0    270.0       우성건설   \n",
       "\n",
       "  k-시행사          k-사용검사일-사용승인일    k-연면적  k-주거전용면적  k-관리비부과면적  \\\n",
       "0    모름  1987-11-21 00:00:00.0  22637.0   20204.0    22637.0   \n",
       "1    모름  1987-11-21 00:00:00.0  22637.0   20204.0    22637.0   \n",
       "\n",
       "   k-전용면적별세대현황(60㎡이하)  k-전용면적별세대현황(60㎡~85㎡이하)  k-85㎡~135㎡이하  k-135㎡초과 k-홈페이지  \\\n",
       "0                20.0                   250.0           0.0       NaN    NaN   \n",
       "1                20.0                   250.0           0.0       NaN    NaN   \n",
       "\n",
       "                  k-등록일자                 k-수정일자 고용보험관리번호 경비비관리형태 세대전기계약방법  \\\n",
       "0  2022-11-09 20:10:43.0  2023-09-23 17:21:41.0      NaN      직영     단일계약   \n",
       "1  2022-11-09 20:10:43.0  2023-09-23 17:21:41.0      NaN      직영     단일계약   \n",
       "\n",
       "  청소비관리형태    건축면적   주차대수 기타/의무/임대/임의=1/2/3/4                  단지승인일 사용허가여부  \\\n",
       "0      직영  4858.0  262.0                  임의  2022-11-17 13:00:29.0      Y   \n",
       "1      직영  4858.0  262.0                  임의  2022-11-17 13:00:29.0      Y   \n",
       "\n",
       "  관리비 업로드        좌표X        좌표Y                  단지신청일    target data_type  \n",
       "0       N  127.05721  37.476763  2022-11-17 10:19:06.0  124000.0     train  \n",
       "1       N  127.05721  37.476763  2022-11-17 10:19:06.0  123500.0     train  "
      ]
     },
     "execution_count": 6,
     "metadata": {},
     "output_type": "execute_result"
    }
   ],
   "source": [
    "concat.head(2)\n"
   ]
  },
  {
   "cell_type": "markdown",
   "id": "4f9d5642",
   "metadata": {},
   "source": [
    "## Data processing"
   ]
  },
  {
   "cell_type": "code",
   "execution_count": 7,
   "id": "974dd249",
   "metadata": {},
   "outputs": [
    {
     "name": "stdout",
     "output_type": "stream",
     "text": [
      "\n",
      "================================================================================\n",
      "\n",
      "\u001b[31m* 결측치가 100만개 이하인 변수들 :\u001b[0m ['시군구', '번지', '본번', '부번', '아파트명', '전용면적(㎡)', '계약년월', '계약일', '층', '건축년도', '도로명', 'k-단지분류(아파트,주상복합등등)', 'k-전화번호', 'k-팩스번호', 'k-세대타입(분양형태)', 'k-관리방식', 'k-복도유형', 'k-난방방식', 'k-전체동수', 'k-전체세대수', 'k-건설사(시공사)', 'k-시행사', 'k-사용검사일-사용승인일', 'k-연면적', 'k-주거전용면적', 'k-관리비부과면적', 'k-전용면적별세대현황(60㎡이하)', 'k-전용면적별세대현황(60㎡~85㎡이하)', 'k-85㎡~135㎡이하', 'k-수정일자', '고용보험관리번호', '경비비관리형태', '세대전기계약방법', '청소비관리형태', '건축면적', '주차대수', '기타/의무/임대/임의=1/2/3/4', '단지승인일', '사용허가여부', '관리비 업로드', '좌표X', '좌표Y', '단지신청일', 'target', 'data_type']\n",
      "\n",
      "\n",
      "\n",
      "\u001b[31m* 결측치가 100만개 이상인 변수들 :\u001b[0m ['해제사유발생일', '등기신청일자', '거래유형', '중개사소재지', '단지소개기존clob', 'k-135㎡초과', 'k-홈페이지', 'k-등록일자']\n",
      "\n",
      "================================================================================\n",
      "\n"
     ]
    }
   ],
   "source": [
    "import numpy as np\n",
    "import pandas as pd\n",
    "\n",
    "# 원본 concat은 절대 수정하지 않고, 복사본 생성\n",
    "concat_clean = concat.copy()\n",
    "\n",
    "# 복사본에서 값 수정 (원본 건드리지 않음)\n",
    "concat_clean['등기신청일자'] = concat_clean['등기신청일자'].replace(' ', np.nan)\n",
    "concat_clean['거래유형'] = concat_clean['거래유형'].replace('-', np.nan)\n",
    "concat_clean['중개사소재지'] = concat_clean['중개사소재지'].replace('-', np.nan)\n",
    "\n",
    "print(\"\\n\" + \"=\"*80 + \"\\n\") \n",
    "\n",
    "# 결측치 기준으로 컬럼 나누기 (복사본 사용)\n",
    "low_null_cols = list(concat_clean.columns[concat_clean.isnull().sum() <= 1000000])\n",
    "high_null_cols = list(concat_clean.columns[concat_clean.isnull().sum() > 1000000])\n",
    "\n",
    "print(\"\\033[31m* 결측치가 100만개 이하인 변수들 :\\033[0m\", low_null_cols)\n",
    "print(\"\\n\\n\")\n",
    "print(\"\\033[31m* 결측치가 100만개 이상인 변수들 :\\033[0m\", high_null_cols)\n",
    "\n",
    "print(\"\\n\" + \"=\"*80 + \"\\n\") \n",
    "\n",
    "# 결측치 적은 컬럼들만 다시 복사 (여기서 진짜 concat_select 생성)\n",
    "concat_select = concat_clean[low_null_cols].copy()\n"
   ]
  },
  {
   "cell_type": "code",
   "execution_count": 8,
   "id": "475fe6a7",
   "metadata": {},
   "outputs": [
    {
     "name": "stdout",
     "output_type": "stream",
     "text": [
      "📌 연속형 변수:\n",
      " - 전용면적(㎡)\n",
      " - 계약년월\n",
      " - 계약일\n",
      " - 층\n",
      " - 건축년도\n",
      " - k-전체동수\n",
      " - k-전체세대수\n",
      " - k-연면적\n",
      " - k-주거전용면적\n",
      " - k-관리비부과면적\n",
      " - k-전용면적별세대현황(60㎡이하)\n",
      " - k-전용면적별세대현황(60㎡~85㎡이하)\n",
      " - k-85㎡~135㎡이하\n",
      " - 건축면적\n",
      " - 주차대수\n",
      " - 좌표X\n",
      " - 좌표Y\n",
      " - target\n",
      "\n",
      "📌 범주형 변수:\n",
      " - 시군구\n",
      " - 번지\n",
      " - 본번\n",
      " - 부번\n",
      " - 아파트명\n",
      " - 도로명\n",
      " - k-단지분류(아파트,주상복합등등)\n",
      " - k-전화번호\n",
      " - k-팩스번호\n",
      " - k-세대타입(분양형태)\n",
      " - k-관리방식\n",
      " - k-복도유형\n",
      " - k-난방방식\n",
      " - k-건설사(시공사)\n",
      " - k-시행사\n",
      " - k-사용검사일-사용승인일\n",
      " - k-수정일자\n",
      " - 고용보험관리번호\n",
      " - 경비비관리형태\n",
      " - 세대전기계약방법\n",
      " - 청소비관리형태\n",
      " - 기타/의무/임대/임의=1/2/3/4\n",
      " - 단지승인일\n",
      " - 사용허가여부\n",
      " - 관리비 업로드\n",
      " - 단지신청일\n",
      " - data_type\n"
     ]
    }
   ],
   "source": [
    "concat_select['본번'] = concat_select['본번'].apply(str)\n",
    "concat_select['부번'] = concat_select['부번'].apply(str)\n",
    "\n",
    "# 연속형 / 범주형 자동 분리\n",
    "continuous_columns = concat_select.select_dtypes(include=['number']).columns.tolist()\n",
    "categorical_columns = concat_select.select_dtypes(exclude=['number']).columns.tolist()\n",
    "\n",
    "# 보기 좋은 출력\n",
    "print(\"📌 연속형 변수:\")\n",
    "for col in continuous_columns:\n",
    "    print(\" -\", col)\n",
    "\n",
    "print(\"\\n📌 범주형 변수:\")\n",
    "for col in categorical_columns:\n",
    "    print(\" -\", col)\n"
   ]
  },
  {
   "cell_type": "code",
   "execution_count": 9,
   "id": "7a49b65c",
   "metadata": {},
   "outputs": [],
   "source": [
    "#범주형 변수 결측치 처리 \n",
    "\n",
    "concat_select[categorical_columns] = concat_select[categorical_columns].fillna('NULL')"
   ]
  },
  {
   "cell_type": "code",
   "execution_count": 10,
   "id": "43060386",
   "metadata": {},
   "outputs": [
    {
     "name": "stdout",
     "output_type": "stream",
     "text": [
      "✅ 제거된 변수: ['k-관리비부과면적', 'k-전체세대수', 'k-연면적']\n",
      "✅ 제거 후 컬럼 수: 42\n"
     ]
    }
   ],
   "source": [
    "# 우선 제거 대상 변수\n",
    "remove_cols = ['k-관리비부과면적', 'k-전체세대수', 'k-연면적']\n",
    "\n",
    "# 제거 적용\n",
    "reduced_data = concat_select.drop(columns=remove_cols)\n",
    "\n",
    "print(\"✅ 제거된 변수:\", remove_cols)\n",
    "print(\"✅ 제거 후 컬럼 수:\", reduced_data.shape[1])"
   ]
  },
  {
   "cell_type": "code",
   "execution_count": 11,
   "id": "6036297c",
   "metadata": {},
   "outputs": [
    {
     "name": "stdout",
     "output_type": "stream",
     "text": [
      "✅ 선형 보간 후 결측치:\n",
      " k-전체동수      0\n",
      "k-주거전용면적    0\n",
      "주차대수        0\n",
      "건축면적        0\n",
      "dtype: int64\n"
     ]
    }
   ],
   "source": [
    "# 보간 대상 변수 목록\n",
    "interpolate_cols = ['k-전체동수', 'k-주거전용면적', '주차대수','건축면적']\n",
    "\n",
    "# 선형 보간 적용 (각 컬럼별로 독립적으로)\n",
    "for col in interpolate_cols:\n",
    "    reduced_data[col] = reduced_data[col].interpolate(method='linear', limit_direction='both')\n",
    "\n",
    "# 결측치 확인\n",
    "missing_after = reduced_data[interpolate_cols].isnull().sum()\n",
    "print(\"✅ 선형 보간 후 결측치:\\n\", missing_after)\n"
   ]
  },
  {
   "cell_type": "code",
   "execution_count": 12,
   "id": "76a228f0",
   "metadata": {},
   "outputs": [
    {
     "name": "stdout",
     "output_type": "stream",
     "text": [
      "k-전용면적별세대현황(60㎡이하)        0\n",
      "k-전용면적별세대현황(60㎡~85㎡이하)    0\n",
      "k-85㎡~135㎡이하              0\n",
      "dtype: int64\n"
     ]
    }
   ],
   "source": [
    "# 결측 → 0으로 처리할 변수 리스트\n",
    "zero_fill_cols = [\n",
    "    'k-전용면적별세대현황(60㎡이하)',\n",
    "    'k-전용면적별세대현황(60㎡~85㎡이하)',\n",
    "    'k-85㎡~135㎡이하'\n",
    "]\n",
    "\n",
    "# 결측치 → 0으로 채우기 (inplace 적용)\n",
    "reduced_data[zero_fill_cols] = reduced_data[zero_fill_cols].fillna(0)\n",
    "\n",
    "# 적용 결과 확인 (선택)\n",
    "print(reduced_data[zero_fill_cols].isnull().sum())"
   ]
  },
  {
   "cell_type": "markdown",
   "id": "df471102",
   "metadata": {},
   "source": [
    "### 추가된 과정 (07.10 목)"
   ]
  },
  {
   "cell_type": "code",
   "execution_count": 13,
   "id": "2c8be88e",
   "metadata": {},
   "outputs": [
    {
     "name": "stdout",
     "output_type": "stream",
     "text": [
      "\n",
      "📌 결측치가 존재하는 컬럼 목록 및 결측치 개수:\n",
      " - 좌표X: 876232개\n",
      " - 좌표Y: 876232개\n",
      " - target: 9272개\n"
     ]
    }
   ],
   "source": [
    "#  모든 컬럼의 결측치 개수 확인\n",
    "missing_summary = reduced_data.isnull().sum()\n",
    "\n",
    "# 결측치가 1개라도 존재하는 컬럼만 필터링\n",
    "missing_columns = missing_summary[missing_summary > 0].sort_values(ascending=False)\n",
    "\n",
    "# 출력 (가독성)\n",
    "print(\"\\n📌 결측치가 존재하는 컬럼 목록 및 결측치 개수:\")\n",
    "for col, missing_count in missing_columns.items():\n",
    "    print(f\" - {col}: {missing_count}개\")\n",
    "\n",
    "# 결측치가 존재하는 컬럼 리스트만 뽑고 싶다면\n",
    "missing_cols_list = missing_columns.index.tolist()"
   ]
  },
  {
   "cell_type": "code",
   "execution_count": 14,
   "id": "521eb733",
   "metadata": {},
   "outputs": [
    {
     "name": "stdout",
     "output_type": "stream",
     "text": [
      "            도로명          좌표X        좌표Y\n",
      "0        서달로 83  126.9596386  37.500668\n",
      "1     송파대로8길 10  127.1291789  37.476897\n",
      "2    양재대로72길 20  127.1287745  37.508906\n",
      "3  고척로21나길 85-6  126.8406749  37.501162\n",
      "4     월계로53길 21  127.0582196  37.631732\n"
     ]
    }
   ],
   "source": [
    "# 1. 데이터 불러오기\n",
    "seoul_apt = pd.read_csv('서울시 공동주택 아파트 정보.csv', encoding='cp949')\n",
    "\n",
    "# 2. 도로명 + 상세주소 합치기 → '도로명 주소' 컬럼 생성\n",
    "seoul_apt['도로명'] = seoul_apt['주소(도로명)'].astype(str).str.strip() + ' ' + seoul_apt['주소(도로상세주소)'].astype(str).str.strip()\n",
    "\n",
    "# 3. 필요한 컬럼만 추출\n",
    "seoul_apt = seoul_apt[['도로명', '좌표X', '좌표Y']]\n",
    "\n",
    "# 4. 결과 확인 (선택)\n",
    "print(seoul_apt.head())"
   ]
  },
  {
   "cell_type": "markdown",
   "id": "e9c7cced",
   "metadata": {},
   "source": [
    "외부 데이터 역시 info로 정확히 확인했어야함. - 확인 놓쳐서 문제가 있었음"
   ]
  },
  {
   "cell_type": "code",
   "execution_count": 21,
   "id": "c1690a4c",
   "metadata": {},
   "outputs": [
    {
     "name": "stdout",
     "output_type": "stream",
     "text": [
      "좌표X     object\n",
      "좌표Y    float64\n",
      "dtype: object\n"
     ]
    }
   ],
   "source": [
    "print(seoul_apt[['좌표X', '좌표Y']].dtypes)"
   ]
  },
  {
   "cell_type": "code",
   "execution_count": 23,
   "id": "e072705b",
   "metadata": {},
   "outputs": [
    {
     "name": "stdout",
     "output_type": "stream",
     "text": [
      "좌표X    float64\n",
      "좌표Y    float64\n",
      "dtype: object\n"
     ]
    }
   ],
   "source": [
    "seoul_apt['좌표X'] = pd.to_numeric(seoul_apt['좌표X'], errors='coerce')\n",
    "\n",
    "print(seoul_apt[['좌표X', '좌표Y']].dtypes)"
   ]
  },
  {
   "cell_type": "code",
   "execution_count": 15,
   "id": "fe017869",
   "metadata": {},
   "outputs": [
    {
     "name": "stdout",
     "output_type": "stream",
     "text": [
      "     도로명\n",
      "0  언주로 3\n",
      "1  언주로 3\n",
      "2  언주로 3\n",
      "3  언주로 3\n",
      "4  언주로 3\n"
     ]
    }
   ],
   "source": [
    "# 2. 도로명, 번지 컬럼 데이터 샘플 확인\n",
    "print(reduced_data[['도로명']].head())"
   ]
  },
  {
   "cell_type": "code",
   "execution_count": 24,
   "id": "ff212fe5",
   "metadata": {},
   "outputs": [
    {
     "name": "stdout",
     "output_type": "stream",
     "text": [
      "\n",
      "📌 좌표 결측치 현황:\n",
      "좌표X    245225\n",
      "좌표Y    245225\n",
      "dtype: int64\n"
     ]
    }
   ],
   "source": [
    "# 3. Merge (좌표 매핑)\n",
    "merged_data = pd.merge(\n",
    "    reduced_data,\n",
    "    seoul_apt,\n",
    "    on='도로명',\n",
    "    how='left',\n",
    "    suffixes=('', '_외부')\n",
    ")\n",
    "\n",
    "# 4. 좌표 결측치 채우기 (외부 좌표로)\n",
    "merged_data['좌표X'] = merged_data['좌표X'].fillna(merged_data['좌표X_외부'])\n",
    "merged_data['좌표Y'] = merged_data['좌표Y'].fillna(merged_data['좌표Y_외부'])\n",
    "\n",
    "# 5. 불필요한 컬럼 삭제\n",
    "merged_data = merged_data.drop(columns=['좌표X_외부', '좌표Y_외부', '도로명'])\n",
    "\n",
    "# 6. 결측치 최종 확인\n",
    "missing_coords = merged_data[['좌표X', '좌표Y']].isnull().sum()\n",
    "print(\"\\n📌 좌표 결측치 현황:\")\n",
    "print(missing_coords)\n"
   ]
  },
  {
   "cell_type": "markdown",
   "id": "63826d4f",
   "metadata": {},
   "source": [
    "#### x, y 좌표 결측치 감소 비율 계산"
   ]
  },
  {
   "cell_type": "code",
   "execution_count": 25,
   "id": "b909b4f0",
   "metadata": {},
   "outputs": [
    {
     "name": "stdout",
     "output_type": "stream",
     "text": [
      "✅ '좌표X' 남은 결측치: 245,225개\n",
      "✅ '좌표Y' 남은 결측치: 245,225개\n",
      "\n",
      "📌 좌표 결측치 현황:\n",
      "좌표X    245225\n",
      "좌표Y    245225\n",
      "dtype: int64\n",
      "\n",
      "📉 '좌표X' 결측치 631,007개 줄어듦 (72.01%)\n",
      "📉 '좌표Y' 결측치 631,007개 줄어듦 (72.01%)\n"
     ]
    }
   ],
   "source": [
    "# 1. 현재 결측치 개수 확인\n",
    "missing_coords = merged_data[['좌표X', '좌표Y']].isnull().sum()\n",
    "missing_x = missing_coords['좌표X']\n",
    "missing_y = missing_coords['좌표Y']\n",
    "\n",
    "print(f\"✅ '좌표X' 남은 결측치: {missing_x:,}개\")\n",
    "print(f\"✅ '좌표Y' 남은 결측치: {missing_y:,}개\")\n",
    "\n",
    "print(\"\\n📌 좌표 결측치 현황:\")\n",
    "print(missing_coords)\n",
    "\n",
    "# 2. 기존 결측치 (기억해둔 숫자 입력)\n",
    "original_missing = 876232  # 기존 결측치 (좌표X 기준)\n",
    "\n",
    "# 3. 줄어든 결측치 개수 및 비율 계산\n",
    "reduced_x = original_missing - missing_x\n",
    "reduced_y = original_missing - missing_y\n",
    "\n",
    "reduced_percent_x = (reduced_x / original_missing) * 100\n",
    "reduced_percent_y = (reduced_y / original_missing) * 100\n",
    "\n",
    "# 4. 출력\n",
    "print(f\"\\n📉 '좌표X' 결측치 {reduced_x:,}개 줄어듦 ({reduced_percent_x:.2f}%)\")\n",
    "print(f\"📉 '좌표Y' 결측치 {reduced_y:,}개 줄어듦 ({reduced_percent_y:.2f}%)\")\n"
   ]
  },
  {
   "cell_type": "code",
   "execution_count": 26,
   "id": "9781a9a7",
   "metadata": {},
   "outputs": [
    {
     "name": "stdout",
     "output_type": "stream",
     "text": [
      "좌표X    float64\n",
      "좌표Y    float64\n",
      "dtype: object\n"
     ]
    }
   ],
   "source": [
    "print(merged_data[['좌표X', '좌표Y']].dtypes)\n"
   ]
  },
  {
   "cell_type": "code",
   "execution_count": 27,
   "id": "9577829f",
   "metadata": {},
   "outputs": [
    {
     "name": "stdout",
     "output_type": "stream",
     "text": [
      "\n",
      "📌 보간 후 좌표 결측치 현황:\n",
      "좌표X    0\n",
      "좌표Y    0\n",
      "dtype: int64\n"
     ]
    }
   ],
   "source": [
    "# 좌표X, 좌표Y 선형 보간 (양방향 보간)\n",
    "merged_data['좌표X'] = merged_data['좌표X'].interpolate(method='linear', limit_direction='both')\n",
    "merged_data['좌표Y'] = merged_data['좌표Y'].interpolate(method='linear', limit_direction='both')\n",
    "\n",
    "missing_coords_after_interp = merged_data[['좌표X', '좌표Y']].isnull().sum()\n",
    "print(\"\\n📌 보간 후 좌표 결측치 현황:\")\n",
    "print(missing_coords_after_interp)\n"
   ]
  },
  {
   "cell_type": "code",
   "execution_count": 28,
   "id": "350bbcb4",
   "metadata": {},
   "outputs": [
    {
     "data": {
      "text/html": [
       "<div>\n",
       "<style scoped>\n",
       "    .dataframe tbody tr th:only-of-type {\n",
       "        vertical-align: middle;\n",
       "    }\n",
       "\n",
       "    .dataframe tbody tr th {\n",
       "        vertical-align: top;\n",
       "    }\n",
       "\n",
       "    .dataframe thead th {\n",
       "        text-align: right;\n",
       "    }\n",
       "</style>\n",
       "<table border=\"1\" class=\"dataframe\">\n",
       "  <thead>\n",
       "    <tr style=\"text-align: right;\">\n",
       "      <th></th>\n",
       "      <th>시군구</th>\n",
       "      <th>번지</th>\n",
       "      <th>본번</th>\n",
       "      <th>부번</th>\n",
       "      <th>아파트명</th>\n",
       "      <th>전용면적(㎡)</th>\n",
       "      <th>계약년월</th>\n",
       "      <th>계약일</th>\n",
       "      <th>층</th>\n",
       "      <th>건축년도</th>\n",
       "      <th>k-단지분류(아파트,주상복합등등)</th>\n",
       "      <th>k-전화번호</th>\n",
       "      <th>k-팩스번호</th>\n",
       "      <th>k-세대타입(분양형태)</th>\n",
       "      <th>k-관리방식</th>\n",
       "      <th>k-복도유형</th>\n",
       "      <th>k-난방방식</th>\n",
       "      <th>k-전체동수</th>\n",
       "      <th>k-건설사(시공사)</th>\n",
       "      <th>k-시행사</th>\n",
       "      <th>k-사용검사일-사용승인일</th>\n",
       "      <th>k-주거전용면적</th>\n",
       "      <th>k-전용면적별세대현황(60㎡이하)</th>\n",
       "      <th>k-전용면적별세대현황(60㎡~85㎡이하)</th>\n",
       "      <th>k-85㎡~135㎡이하</th>\n",
       "      <th>k-수정일자</th>\n",
       "      <th>고용보험관리번호</th>\n",
       "      <th>경비비관리형태</th>\n",
       "      <th>세대전기계약방법</th>\n",
       "      <th>청소비관리형태</th>\n",
       "      <th>건축면적</th>\n",
       "      <th>주차대수</th>\n",
       "      <th>기타/의무/임대/임의=1/2/3/4</th>\n",
       "      <th>단지승인일</th>\n",
       "      <th>사용허가여부</th>\n",
       "      <th>관리비 업로드</th>\n",
       "      <th>좌표X</th>\n",
       "      <th>좌표Y</th>\n",
       "      <th>단지신청일</th>\n",
       "      <th>target</th>\n",
       "      <th>data_type</th>\n",
       "    </tr>\n",
       "  </thead>\n",
       "  <tbody>\n",
       "    <tr>\n",
       "      <th>0</th>\n",
       "      <td>서울특별시 강남구 개포동</td>\n",
       "      <td>658-1</td>\n",
       "      <td>658.0</td>\n",
       "      <td>1.0</td>\n",
       "      <td>개포6차우성</td>\n",
       "      <td>79.97</td>\n",
       "      <td>201712</td>\n",
       "      <td>8</td>\n",
       "      <td>3</td>\n",
       "      <td>1987</td>\n",
       "      <td>아파트</td>\n",
       "      <td>025776611</td>\n",
       "      <td>025776673</td>\n",
       "      <td>분양</td>\n",
       "      <td>자치관리</td>\n",
       "      <td>계단식</td>\n",
       "      <td>개별난방</td>\n",
       "      <td>8.0</td>\n",
       "      <td>우성건설</td>\n",
       "      <td>모름</td>\n",
       "      <td>1987-11-21 00:00:00.0</td>\n",
       "      <td>20204.0</td>\n",
       "      <td>20.0</td>\n",
       "      <td>250.0</td>\n",
       "      <td>0.0</td>\n",
       "      <td>2023-09-23 17:21:41.0</td>\n",
       "      <td>NULL</td>\n",
       "      <td>직영</td>\n",
       "      <td>단일계약</td>\n",
       "      <td>직영</td>\n",
       "      <td>4858.0</td>\n",
       "      <td>262.0</td>\n",
       "      <td>임의</td>\n",
       "      <td>2022-11-17 13:00:29.0</td>\n",
       "      <td>Y</td>\n",
       "      <td>N</td>\n",
       "      <td>127.05721</td>\n",
       "      <td>37.476763</td>\n",
       "      <td>2022-11-17 10:19:06.0</td>\n",
       "      <td>124000.0</td>\n",
       "      <td>train</td>\n",
       "    </tr>\n",
       "  </tbody>\n",
       "</table>\n",
       "</div>"
      ],
      "text/plain": [
       "             시군구     번지     본번   부번    아파트명  전용면적(㎡)    계약년월  계약일  층  건축년도  \\\n",
       "0  서울특별시 강남구 개포동  658-1  658.0  1.0  개포6차우성    79.97  201712    8  3  1987   \n",
       "\n",
       "  k-단지분류(아파트,주상복합등등)     k-전화번호     k-팩스번호 k-세대타입(분양형태) k-관리방식 k-복도유형 k-난방방식  \\\n",
       "0                아파트  025776611  025776673           분양   자치관리    계단식   개별난방   \n",
       "\n",
       "   k-전체동수 k-건설사(시공사) k-시행사          k-사용검사일-사용승인일  k-주거전용면적  \\\n",
       "0     8.0       우성건설    모름  1987-11-21 00:00:00.0   20204.0   \n",
       "\n",
       "   k-전용면적별세대현황(60㎡이하)  k-전용면적별세대현황(60㎡~85㎡이하)  k-85㎡~135㎡이하  \\\n",
       "0                20.0                   250.0           0.0   \n",
       "\n",
       "                  k-수정일자 고용보험관리번호 경비비관리형태 세대전기계약방법 청소비관리형태    건축면적   주차대수  \\\n",
       "0  2023-09-23 17:21:41.0     NULL      직영     단일계약      직영  4858.0  262.0   \n",
       "\n",
       "  기타/의무/임대/임의=1/2/3/4                  단지승인일 사용허가여부 관리비 업로드        좌표X  \\\n",
       "0                  임의  2022-11-17 13:00:29.0      Y       N  127.05721   \n",
       "\n",
       "         좌표Y                  단지신청일    target data_type  \n",
       "0  37.476763  2022-11-17 10:19:06.0  124000.0     train  "
      ]
     },
     "execution_count": 28,
     "metadata": {},
     "output_type": "execute_result"
    }
   ],
   "source": [
    "merged_data.head(1)"
   ]
  },
  {
   "cell_type": "code",
   "execution_count": 29,
   "id": "c710c399",
   "metadata": {},
   "outputs": [
    {
     "name": "stdout",
     "output_type": "stream",
     "text": [
      "📌 전체 결측치 현황 (결측치가 있는 컬럼만):\n",
      "\n",
      " - target: 9,915개\n"
     ]
    }
   ],
   "source": [
    "# 1. 전체 결측치 개수 확인 (컬럼별)\n",
    "missing_summary = merged_data.isnull().sum()\n",
    "\n",
    "# 2. 결측치가 존재하는 컬럼만 필터링\n",
    "missing_columns = missing_summary[missing_summary > 0]\n",
    "\n",
    "# 3. 결과 출력\n",
    "print(\"📌 전체 결측치 현황 (결측치가 있는 컬럼만):\\n\")\n",
    "for col, missing_count in missing_columns.items():\n",
    "    print(f\" - {col}: {missing_count:,}개\")\n",
    "\n",
    "# 4. 결측치 있는 컬럼명만 리스트로 추출 (필요시)\n",
    "missing_cols_list = missing_columns.index.tolist()\n"
   ]
  },
  {
   "cell_type": "code",
   "execution_count": null,
   "id": "8d3da397",
   "metadata": {},
   "outputs": [],
   "source": [
    "# merged_data = merged_data.replace(['', ' ', 'NaN'], np.nan)"
   ]
  },
  {
   "cell_type": "code",
   "execution_count": 36,
   "id": "165e99f2",
   "metadata": {},
   "outputs": [],
   "source": [
    "merged_data.to_csv('apt_data_v1.csv', index=False, encoding='utf-8-sig', na_rep='NA')"
   ]
  },
  {
   "cell_type": "markdown",
   "id": "d63e2afc",
   "metadata": {},
   "source": [
    "## 이상치 분석 "
   ]
  },
  {
   "cell_type": "code",
   "execution_count": 30,
   "id": "00626b8e",
   "metadata": {},
   "outputs": [
    {
     "name": "stdout",
     "output_type": "stream",
     "text": [
      "✅ 연속형 변수 목록:\n",
      "- 전용면적(㎡)\n",
      "- 계약년월\n",
      "- 계약일\n",
      "- 층\n",
      "- 건축년도\n",
      "- k-전체동수\n",
      "- k-주거전용면적\n",
      "- k-전용면적별세대현황(60㎡이하)\n",
      "- k-전용면적별세대현황(60㎡~85㎡이하)\n",
      "- k-85㎡~135㎡이하\n",
      "- 건축면적\n",
      "- 주차대수\n",
      "- 좌표X\n",
      "- 좌표Y\n",
      "- target\n"
     ]
    }
   ],
   "source": [
    "# 연속형 변수 추출\n",
    "numeric_cols = merged_data.select_dtypes(include=['number']).columns.tolist()\n",
    "\n",
    "print(\"✅ 연속형 변수 목록:\")\n",
    "for col in numeric_cols:\n",
    "    print(f\"- {col}\")\n"
   ]
  },
  {
   "cell_type": "code",
   "execution_count": 34,
   "id": "73b80f18",
   "metadata": {},
   "outputs": [
    {
     "name": "stdout",
     "output_type": "stream",
     "text": [
      "(1204322, 41)\n"
     ]
    }
   ],
   "source": [
    "print(merged_data.shape)\n"
   ]
  },
  {
   "cell_type": "code",
   "execution_count": 35,
   "id": "cb1d0ff5",
   "metadata": {},
   "outputs": [
    {
     "data": {
      "text/html": [
       "<div>\n",
       "<style scoped>\n",
       "    .dataframe tbody tr th:only-of-type {\n",
       "        vertical-align: middle;\n",
       "    }\n",
       "\n",
       "    .dataframe tbody tr th {\n",
       "        vertical-align: top;\n",
       "    }\n",
       "\n",
       "    .dataframe thead th {\n",
       "        text-align: right;\n",
       "    }\n",
       "</style>\n",
       "<table border=\"1\" class=\"dataframe\">\n",
       "  <thead>\n",
       "    <tr style=\"text-align: right;\">\n",
       "      <th></th>\n",
       "      <th>이상치 개수</th>\n",
       "      <th>비율(%)</th>\n",
       "    </tr>\n",
       "  </thead>\n",
       "  <tbody>\n",
       "    <tr>\n",
       "      <th>k-전용면적별세대현황(60㎡~85㎡이하)</th>\n",
       "      <td>217947.0</td>\n",
       "      <td>18.25</td>\n",
       "    </tr>\n",
       "    <tr>\n",
       "      <th>k-전용면적별세대현황(60㎡이하)</th>\n",
       "      <td>208115.0</td>\n",
       "      <td>17.42</td>\n",
       "    </tr>\n",
       "    <tr>\n",
       "      <th>k-85㎡~135㎡이하</th>\n",
       "      <td>157622.0</td>\n",
       "      <td>13.20</td>\n",
       "    </tr>\n",
       "    <tr>\n",
       "      <th>건축면적</th>\n",
       "      <td>119463.0</td>\n",
       "      <td>10.00</td>\n",
       "    </tr>\n",
       "    <tr>\n",
       "      <th>주차대수</th>\n",
       "      <td>118578.0</td>\n",
       "      <td>9.93</td>\n",
       "    </tr>\n",
       "    <tr>\n",
       "      <th>k-주거전용면적</th>\n",
       "      <td>110937.0</td>\n",
       "      <td>9.29</td>\n",
       "    </tr>\n",
       "    <tr>\n",
       "      <th>k-전체동수</th>\n",
       "      <td>108276.0</td>\n",
       "      <td>9.07</td>\n",
       "    </tr>\n",
       "    <tr>\n",
       "      <th>전용면적(㎡)</th>\n",
       "      <td>90595.0</td>\n",
       "      <td>7.58</td>\n",
       "    </tr>\n",
       "    <tr>\n",
       "      <th>target</th>\n",
       "      <td>80775.0</td>\n",
       "      <td>6.76</td>\n",
       "    </tr>\n",
       "    <tr>\n",
       "      <th>층</th>\n",
       "      <td>11301.0</td>\n",
       "      <td>0.95</td>\n",
       "    </tr>\n",
       "    <tr>\n",
       "      <th>건축년도</th>\n",
       "      <td>9214.0</td>\n",
       "      <td>0.77</td>\n",
       "    </tr>\n",
       "    <tr>\n",
       "      <th>계약년월</th>\n",
       "      <td>0.0</td>\n",
       "      <td>0.00</td>\n",
       "    </tr>\n",
       "    <tr>\n",
       "      <th>계약일</th>\n",
       "      <td>0.0</td>\n",
       "      <td>0.00</td>\n",
       "    </tr>\n",
       "    <tr>\n",
       "      <th>좌표X</th>\n",
       "      <td>0.0</td>\n",
       "      <td>0.00</td>\n",
       "    </tr>\n",
       "    <tr>\n",
       "      <th>좌표Y</th>\n",
       "      <td>0.0</td>\n",
       "      <td>0.00</td>\n",
       "    </tr>\n",
       "  </tbody>\n",
       "</table>\n",
       "</div>"
      ],
      "text/plain": [
       "                          이상치 개수  비율(%)\n",
       "k-전용면적별세대현황(60㎡~85㎡이하)  217947.0  18.25\n",
       "k-전용면적별세대현황(60㎡이하)      208115.0  17.42\n",
       "k-85㎡~135㎡이하            157622.0  13.20\n",
       "건축면적                    119463.0  10.00\n",
       "주차대수                    118578.0   9.93\n",
       "k-주거전용면적                110937.0   9.29\n",
       "k-전체동수                  108276.0   9.07\n",
       "전용면적(㎡)                  90595.0   7.58\n",
       "target                   80775.0   6.76\n",
       "층                        11301.0   0.95\n",
       "건축년도                      9214.0   0.77\n",
       "계약년월                         0.0   0.00\n",
       "계약일                          0.0   0.00\n",
       "좌표X                          0.0   0.00\n",
       "좌표Y                          0.0   0.00"
      ]
     },
     "metadata": {},
     "output_type": "display_data"
    }
   ],
   "source": [
    "# 1. train 데이터만 필터링\n",
    "train_data = merged_data[merged_data['data_type'] == 'train']\n",
    "\n",
    "# 2. 이상치 분석 (train 데이터 기준)\n",
    "outlier_summary = {}\n",
    "\n",
    "for col in numeric_cols:\n",
    "    Q1 = train_data[col].quantile(0.25)\n",
    "    Q3 = train_data[col].quantile(0.75)\n",
    "    IQR = Q3 - Q1\n",
    "    lower_bound = Q1 - 1.5 * IQR\n",
    "    upper_bound = Q3 + 1.5 * IQR\n",
    "\n",
    "    outliers = train_data[(train_data[col] < lower_bound) | (train_data[col] > upper_bound)]\n",
    "    outlier_count = outliers.shape[0]\n",
    "    outlier_ratio = outlier_count / train_data.shape[0] * 100\n",
    "\n",
    "    outlier_summary[col] = {'이상치 개수': outlier_count, '비율(%)': round(outlier_ratio, 2)}\n",
    "\n",
    "# 3. 결과 정리\n",
    "outlier_df = pd.DataFrame(outlier_summary).T.sort_values(by='비율(%)', ascending=False)\n",
    "\n",
    "display(outlier_df)\n",
    "\n"
   ]
  },
  {
   "cell_type": "code",
   "execution_count": 33,
   "id": "9d515da7",
   "metadata": {},
   "outputs": [
    {
     "name": "stderr",
     "output_type": "stream",
     "text": [
      "/opt/anaconda3/envs/real_estate_pred/lib/python3.9/site-packages/IPython/core/pylabtools.py:152: UserWarning: Glyph 128202 (\\N{BAR CHART}) missing from font(s) NanumGothicOTF.\n",
      "  fig.canvas.print_figure(bytes_io, **kw)\n"
     ]
    },
    {
     "data": {
      "image/png": "[encoded data removed]",
      "text/plain": [
       "<Figure size 800x400 with 1 Axes>"
      ]
     },
     "metadata": {},
     "output_type": "display_data"
    },
    {
     "name": "stderr",
     "output_type": "stream",
     "text": [
      "/opt/anaconda3/envs/real_estate_pred/lib/python3.9/site-packages/IPython/core/pylabtools.py:152: UserWarning: Glyph 128202 (\\N{BAR CHART}) missing from font(s) NanumGothicOTF.\n",
      "  fig.canvas.print_figure(bytes_io, **kw)\n"
     ]
    },
    {
     "data": {
      "image/png": "[encoded data removed]",
      "text/plain": [
       "<Figure size 800x400 with 1 Axes>"
      ]
     },
     "metadata": {},
     "output_type": "display_data"
    },
    {
     "name": "stderr",
     "output_type": "stream",
     "text": [
      "/opt/anaconda3/envs/real_estate_pred/lib/python3.9/site-packages/IPython/core/pylabtools.py:152: UserWarning: Glyph 128202 (\\N{BAR CHART}) missing from font(s) NanumGothicOTF.\n",
      "  fig.canvas.print_figure(bytes_io, **kw)\n"
     ]
    },
    {
     "data": {
      "image/png": "[encoded data removed]",
      "text/plain": [
       "<Figure size 800x400 with 1 Axes>"
      ]
     },
     "metadata": {},
     "output_type": "display_data"
    },
    {
     "name": "stderr",
     "output_type": "stream",
     "text": [
      "/opt/anaconda3/envs/real_estate_pred/lib/python3.9/site-packages/IPython/core/pylabtools.py:152: UserWarning: Glyph 128202 (\\N{BAR CHART}) missing from font(s) NanumGothicOTF.\n",
      "  fig.canvas.print_figure(bytes_io, **kw)\n"
     ]
    },
    {
     "data": {
      "image/png": "[encoded data removed]",
      "text/plain": [
       "<Figure size 800x400 with 1 Axes>"
      ]
     },
     "metadata": {},
     "output_type": "display_data"
    },
    {
     "name": "stderr",
     "output_type": "stream",
     "text": [
      "/opt/anaconda3/envs/real_estate_pred/lib/python3.9/site-packages/IPython/core/pylabtools.py:152: UserWarning: Glyph 128202 (\\N{BAR CHART}) missing from font(s) NanumGothicOTF.\n",
      "  fig.canvas.print_figure(bytes_io, **kw)\n"
     ]
    },
    {
     "data": {
      "image/png": "[encoded data removed]",
      "text/plain": [
       "<Figure size 800x400 with 1 Axes>"
      ]
     },
     "metadata": {},
     "output_type": "display_data"
    },
    {
     "name": "stderr",
     "output_type": "stream",
     "text": [
      "/opt/anaconda3/envs/real_estate_pred/lib/python3.9/site-packages/IPython/core/pylabtools.py:152: UserWarning: Glyph 128202 (\\N{BAR CHART}) missing from font(s) NanumGothicOTF.\n",
      "  fig.canvas.print_figure(bytes_io, **kw)\n"
     ]
    },
    {
     "data": {
      "image/png": "[encoded data removed]",
      "text/plain": [
       "<Figure size 800x400 with 1 Axes>"
      ]
     },
     "metadata": {},
     "output_type": "display_data"
    },
    {
     "name": "stderr",
     "output_type": "stream",
     "text": [
      "/opt/anaconda3/envs/real_estate_pred/lib/python3.9/site-packages/IPython/core/pylabtools.py:152: UserWarning: Glyph 128202 (\\N{BAR CHART}) missing from font(s) NanumGothicOTF.\n",
      "  fig.canvas.print_figure(bytes_io, **kw)\n"
     ]
    },
    {
     "data": {
      "image/png": "[encoded data removed]",
      "text/plain": [
       "<Figure size 800x400 with 1 Axes>"
      ]
     },
     "metadata": {},
     "output_type": "display_data"
    },
    {
     "name": "stderr",
     "output_type": "stream",
     "text": [
      "/opt/anaconda3/envs/real_estate_pred/lib/python3.9/site-packages/IPython/core/pylabtools.py:152: UserWarning: Glyph 128202 (\\N{BAR CHART}) missing from font(s) NanumGothicOTF.\n",
      "  fig.canvas.print_figure(bytes_io, **kw)\n"
     ]
    },
    {
     "data": {
      "image/png": "[encoded data removed]",
      "text/plain": [
       "<Figure size 800x400 with 1 Axes>"
      ]
     },
     "metadata": {},
     "output_type": "display_data"
    },
    {
     "name": "stderr",
     "output_type": "stream",
     "text": [
      "/opt/anaconda3/envs/real_estate_pred/lib/python3.9/site-packages/IPython/core/pylabtools.py:152: UserWarning: Glyph 128202 (\\N{BAR CHART}) missing from font(s) NanumGothicOTF.\n",
      "  fig.canvas.print_figure(bytes_io, **kw)\n"
     ]
    },
    {
     "data": {
      "image/png": "[encoded data removed]",
      "text/plain": [
       "<Figure size 800x400 with 1 Axes>"
      ]
     },
     "metadata": {},
     "output_type": "display_data"
    },
    {
     "name": "stderr",
     "output_type": "stream",
     "text": [
      "/opt/anaconda3/envs/real_estate_pred/lib/python3.9/site-packages/IPython/core/pylabtools.py:152: UserWarning: Glyph 128202 (\\N{BAR CHART}) missing from font(s) NanumGothicOTF.\n",
      "  fig.canvas.print_figure(bytes_io, **kw)\n"
     ]
    },
    {
     "data": {
      "image/png": "[encoded data removed]",
      "text/plain": [
       "<Figure size 800x400 with 1 Axes>"
      ]
     },
     "metadata": {},
     "output_type": "display_data"
    },
    {
     "name": "stderr",
     "output_type": "stream",
     "text": [
      "/opt/anaconda3/envs/real_estate_pred/lib/python3.9/site-packages/IPython/core/pylabtools.py:152: UserWarning: Glyph 128202 (\\N{BAR CHART}) missing from font(s) NanumGothicOTF.\n",
      "  fig.canvas.print_figure(bytes_io, **kw)\n"
     ]
    },
    {
     "data": {
      "image/png": "[encoded data removed]",
      "text/plain": [
       "<Figure size 800x400 with 1 Axes>"
      ]
     },
     "metadata": {},
     "output_type": "display_data"
    },
    {
     "name": "stderr",
     "output_type": "stream",
     "text": [
      "/opt/anaconda3/envs/real_estate_pred/lib/python3.9/site-packages/IPython/core/pylabtools.py:152: UserWarning: Glyph 128202 (\\N{BAR CHART}) missing from font(s) NanumGothicOTF.\n",
      "  fig.canvas.print_figure(bytes_io, **kw)\n"
     ]
    },
    {
     "data": {
      "image/png": "[encoded data removed]",
      "text/plain": [
       "<Figure size 800x400 with 1 Axes>"
      ]
     },
     "metadata": {},
     "output_type": "display_data"
    },
    {
     "name": "stderr",
     "output_type": "stream",
     "text": [
      "/opt/anaconda3/envs/real_estate_pred/lib/python3.9/site-packages/IPython/core/pylabtools.py:152: UserWarning: Glyph 128202 (\\N{BAR CHART}) missing from font(s) NanumGothicOTF.\n",
      "  fig.canvas.print_figure(bytes_io, **kw)\n"
     ]
    },
    {
     "data": {
      "image/png": "[encoded data removed]",
      "text/plain": [
       "<Figure size 800x400 with 1 Axes>"
      ]
     },
     "metadata": {},
     "output_type": "display_data"
    },
    {
     "name": "stderr",
     "output_type": "stream",
     "text": [
      "/opt/anaconda3/envs/real_estate_pred/lib/python3.9/site-packages/IPython/core/pylabtools.py:152: UserWarning: Glyph 128202 (\\N{BAR CHART}) missing from font(s) NanumGothicOTF.\n",
      "  fig.canvas.print_figure(bytes_io, **kw)\n"
     ]
    },
    {
     "data": {
      "image/png": "[encoded data removed]",
      "text/plain": [
       "<Figure size 800x400 with 1 Axes>"
      ]
     },
     "metadata": {},
     "output_type": "display_data"
    },
    {
     "name": "stderr",
     "output_type": "stream",
     "text": [
      "/opt/anaconda3/envs/real_estate_pred/lib/python3.9/site-packages/IPython/core/pylabtools.py:152: UserWarning: Glyph 128202 (\\N{BAR CHART}) missing from font(s) NanumGothicOTF.\n",
      "  fig.canvas.print_figure(bytes_io, **kw)\n"
     ]
    },
    {
     "data": {
      "image/png": "[encoded data removed]",
      "text/plain": [
       "<Figure size 800x400 with 1 Axes>"
      ]
     },
     "metadata": {},
     "output_type": "display_data"
    }
   ],
   "source": [
    "for col in numeric_cols:\n",
    "    plt.figure(figsize=(8, 4))\n",
    "    plt.boxplot(merged_data[col].dropna(), vert=False)\n",
    "    plt.title(f'📊 Boxplot of {col}')\n",
    "    plt.xlabel(col)\n",
    "    plt.show()"
   ]
  },
  {
   "cell_type": "code",
   "execution_count": 38,
   "id": "47d6b49f",
   "metadata": {},
   "outputs": [],
   "source": [
    "target_cols = ['건축면적', '주차대수', 'k-주거전용면적', 'k-전체동수', '전용면적(㎡)']\n",
    "\n",
    "# 이상치 제거 함수 (train 데이터만)\n",
    "def remove_outliers_iqr(df, cols):\n",
    "    # 1. train 데이터만 필터링\n",
    "    train_df = df[df['data_type'] == 'train'].copy()\n",
    "    test_df = df[df['data_type'] != 'train'].copy()   # test 데이터는 그대로\n",
    "    \n",
    "    # 2. 각 변수에 대해 이상치 제거\n",
    "    for col in cols:\n",
    "        Q1 = train_df[col].quantile(0.25)\n",
    "        Q3 = train_df[col].quantile(0.75)\n",
    "        IQR = Q3 - Q1\n",
    "        lower_bound = Q1 - 1.5 * IQR\n",
    "        upper_bound = Q3 + 1.5 * IQR\n",
    "        train_df = train_df[(train_df[col] >= lower_bound) & (train_df[col] <= upper_bound)]\n",
    "    \n",
    "    # 3. train과 test 다시 합치기\n",
    "    cleaned_df = pd.concat([train_df, test_df]).sort_index()\n",
    "    \n",
    "    return cleaned_df\n",
    "\n",
    "# 적용\n",
    "merged_data_clean = remove_outliers_iqr(merged_data, target_cols)"
   ]
  },
  {
   "cell_type": "code",
   "execution_count": 39,
   "id": "4dec23a5",
   "metadata": {},
   "outputs": [
    {
     "name": "stdout",
     "output_type": "stream",
     "text": [
      "Before: (1204322, 41)\n",
      "After: (843447, 41)\n"
     ]
    }
   ],
   "source": [
    "print(\"Before:\", merged_data.shape)\n",
    "print(\"After:\", merged_data_clean.shape)\n"
   ]
  },
  {
   "cell_type": "code",
   "execution_count": 47,
   "id": "f1e14206",
   "metadata": {},
   "outputs": [
    {
     "name": "stdout",
     "output_type": "stream",
     "text": [
      "data_type\n",
      "train    1194407\n",
      "test        9915\n",
      "Name: count, dtype: int64\n",
      "\n",
      "data_type\n",
      "train    833532\n",
      "test       9915\n",
      "Name: count, dtype: int64\n"
     ]
    }
   ],
   "source": [
    "print(merged_data['data_type'].value_counts())\n",
    "print()\n",
    "print(merged_data_clean['data_type'].value_counts())"
   ]
  },
  {
   "cell_type": "code",
   "execution_count": null,
   "id": "d783b48c",
   "metadata": {},
   "outputs": [],
   "source": [
    "merged_data_clean.to_csv('apt_data_v1_clean.csv', index=False, encoding='utf-8-sig')"
   ]
  }
 ],
 "metadata": {
  "kernelspec": {
   "display_name": "real_estate_pred",
   "language": "python",
   "name": "python3"
  },
  "language_info": {
   "codemirror_mode": {
    "name": "ipython",
    "version": 3
   },
   "file_extension": ".py",
   "mimetype": "text/x-python",
   "name": "python",
   "nbconvert_exporter": "python",
   "pygments_lexer": "ipython3",
   "version": "3.9.23"
  }
 },
 "nbformat": 4,
 "nbformat_minor": 5
}
