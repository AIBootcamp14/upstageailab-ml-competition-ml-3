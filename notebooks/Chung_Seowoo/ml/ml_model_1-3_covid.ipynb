{
 "cells": [
  {
   "cell_type": "markdown",
   "id": "0041f52f",
   "metadata": {},
   "source": [
    "# 결측치 제거 "
   ]
  },
  {
   "cell_type": "code",
   "execution_count": 68,
   "id": "6e17ddf8",
   "metadata": {},
   "outputs": [],
   "source": [
    "# visualization\n",
    "import matplotlib.pyplot as plt\n",
    "import matplotlib.font_manager as fm\n",
    "fe = fm.FontEntry(\n",
    "    fname=r'/Users/chung/Library/Fonts/NanumGothic.otf', \n",
    "    name='NanumGothic')                     \n",
    "fm.fontManager.ttflist.insert(0, fe)              # Matplotlib에 폰트 추가 (0,fe):가장 우선순위로 추가하겠다는 뜻\n",
    "plt.rcParams.update({'font.size': 11, 'font.family': 'NanumGothic'}) # 폰트 설정\n",
    "plt.rc('font', family='NanumGothic')\n",
    "import seaborn as sns\n",
    "\n",
    "# utils\n",
    "import pandas as pd\n",
    "import numpy as np\n",
    "\n",
    "# from tqdm import tqdm\n",
    "import pickle\n",
    "import warnings;warnings.filterwarnings('ignore')"
   ]
  },
  {
   "cell_type": "code",
   "execution_count": 69,
   "id": "f76a4785",
   "metadata": {},
   "outputs": [
    {
     "name": "stdout",
     "output_type": "stream",
     "text": [
      "\n",
      "================================================================================\n",
      "\n",
      "\u001b[31m* 결측치가 100만개 이하인 변수들 :\u001b[0m ['시군구', '번지', '본번', '부번', '아파트명', '전용면적(㎡)', '계약년월', '계약일', '층', '건축년도', '도로명', 'k-단지분류(아파트,주상복합등등)', 'k-전화번호', 'k-팩스번호', 'k-세대타입(분양형태)', 'k-관리방식', 'k-복도유형', 'k-난방방식', 'k-전체동수', 'k-전체세대수', 'k-건설사(시공사)', 'k-시행사', 'k-사용검사일-사용승인일', 'k-연면적', 'k-주거전용면적', 'k-관리비부과면적', 'k-전용면적별세대현황(60㎡이하)', 'k-전용면적별세대현황(60㎡~85㎡이하)', 'k-85㎡~135㎡이하', 'k-수정일자', '고용보험관리번호', '경비비관리형태', '세대전기계약방법', '청소비관리형태', '건축면적', '주차대수', '기타/의무/임대/임의=1/2/3/4', '단지승인일', '사용허가여부', '관리비 업로드', '좌표X', '좌표Y', '단지신청일', 'target', 'data_type']\n",
      "\n",
      "\n",
      "\n",
      "\u001b[31m* 결측치가 100만개 이상인 변수들 :\u001b[0m ['해제사유발생일', '등기신청일자', '거래유형', '중개사소재지', '단지소개기존clob', 'k-135㎡초과', 'k-홈페이지', 'k-등록일자']\n",
      "\n",
      "================================================================================\n",
      "\n",
      "k-전용면적별세대현황(60㎡이하)        0\n",
      "k-전용면적별세대현황(60㎡~85㎡이하)    0\n",
      "k-85㎡~135㎡이하              0\n",
      "dtype: int64\n"
     ]
    }
   ],
   "source": [
    "pd.set_option('display.max_columns', None)   \n",
    "pd.set_option('display.max_colwidth', None)  \n",
    "\n",
    "train_path = '/root/ML_Contest/data/train.csv'\n",
    "test_path  = '/root/ML_Contest/data/test.csv'\n",
    "dt = pd.read_csv(train_path)\n",
    "dt_test = pd.read_csv(test_path)\n",
    "\n",
    "dt['data_type'] = 'train'\n",
    "dt_test['data_type'] = 'test'\n",
    "\n",
    "concat = pd.concat([dt, dt_test])    \n",
    "\n",
    "\n",
    "concat_clean = concat.copy()\n",
    "\n",
    "concat_clean['등기신청일자'] = concat_clean['등기신청일자'].replace(' ', np.nan)\n",
    "concat_clean['거래유형'] = concat_clean['거래유형'].replace('-', np.nan)\n",
    "concat_clean['중개사소재지'] = concat_clean['중개사소재지'].replace('-', np.nan)\n",
    "\n",
    "print(\"\\n\" + \"=\"*80 + \"\\n\") \n",
    "\n",
    "# 결측치 기준으로 컬럼 나누기 (복사본 사용)\n",
    "low_null_cols = list(concat_clean.columns[concat_clean.isnull().sum() <= 1000000])\n",
    "high_null_cols = list(concat_clean.columns[concat_clean.isnull().sum() > 1000000])\n",
    "\n",
    "print(\"\\033[31m* 결측치가 100만개 이하인 변수들 :\\033[0m\", low_null_cols)\n",
    "print(\"\\n\\n\")\n",
    "print(\"\\033[31m* 결측치가 100만개 이상인 변수들 :\\033[0m\", high_null_cols)\n",
    "\n",
    "print(\"\\n\" + \"=\"*80 + \"\\n\") \n",
    "\n",
    "# 결측치 적은 컬럼들만 다시 복사 (여기서 진짜 concat_select 생성)\n",
    "concat_select = concat_clean[low_null_cols].copy()\n",
    "\n",
    "concat_select['본번'] = concat_select['본번'].apply(str)\n",
    "concat_select['부번'] = concat_select['부번'].apply(str)\n",
    "\n",
    "# 연속형 / 범주형 자동 분리\n",
    "continuous_columns = concat_select.select_dtypes(include=['number']).columns.tolist()\n",
    "categorical_columns = concat_select.select_dtypes(exclude=['number']).columns.tolist()\n",
    "\n",
    "concat_select[categorical_columns] = concat_select[categorical_columns].fillna('NULL')\n",
    "\n",
    "# 우선 제거 대상 변수\n",
    "remove_cols = ['k-관리비부과면적', 'k-전체세대수', 'k-연면적']\n",
    "\n",
    "# 제거 적용\n",
    "reduced_data = concat_select.drop(columns=remove_cols)\n",
    "\n",
    "# 보간 대상 변수 목록\n",
    "interpolate_cols = ['k-전체동수', 'k-주거전용면적', '주차대수','건축면적']\n",
    "\n",
    "# 선형 보간 적용 (각 컬럼별로 독립적으로)\n",
    "for col in interpolate_cols:\n",
    "    reduced_data[col] = reduced_data[col].interpolate(method='linear', limit_direction='both')\n",
    "\n",
    "# 결측 → 0으로 처리할 변수 리스트\n",
    "zero_fill_cols = [\n",
    "    'k-전용면적별세대현황(60㎡이하)',\n",
    "    'k-전용면적별세대현황(60㎡~85㎡이하)',\n",
    "    'k-85㎡~135㎡이하'\n",
    "]\n",
    "\n",
    "# 결측치 → 0으로 채우기 (inplace 적용)\n",
    "reduced_data[zero_fill_cols] = reduced_data[zero_fill_cols].fillna(0)\n",
    "\n",
    "# 적용 결과 확인 (선택)\n",
    "print(reduced_data[zero_fill_cols].isnull().sum())\n"
   ]
  },
  {
   "cell_type": "code",
   "execution_count": 70,
   "id": "a8ea8f81",
   "metadata": {},
   "outputs": [],
   "source": [
    "# 1. 데이터 불러오기\n",
    "seoul_apt = pd.read_csv('서울시 공동주택 아파트 정보.csv', encoding='cp949')\n",
    "\n",
    "# 2. 도로명 + 상세주소 합치기 → '도로명 주소' 컬럼 생성\n",
    "seoul_apt['도로명'] = seoul_apt['주소(도로명)'].astype(str).str.strip() + ' ' + seoul_apt['주소(도로상세주소)'].astype(str).str.strip()\n",
    "\n",
    "# 3. 필요한 컬럼만 추출\n",
    "seoul_apt = seoul_apt[['도로명', '좌표X', '좌표Y']]\n",
    "\n",
    "# 4. 데이터 타입 변경\n",
    "seoul_apt['좌표X'] = pd.to_numeric(seoul_apt['좌표X'], errors='coerce')\n",
    "\n",
    "# 5. Merge (좌표 매핑)\n",
    "merged_data = pd.merge(\n",
    "    reduced_data,\n",
    "    seoul_apt,\n",
    "    on='도로명',\n",
    "    how='left',\n",
    "    suffixes=('', '_외부')\n",
    ")\n",
    "\n",
    "# 6. 좌표 결측치 채우기 (외부 좌표로)\n",
    "merged_data['좌표X'] = merged_data['좌표X'].fillna(merged_data['좌표X_외부'])\n",
    "merged_data['좌표Y'] = merged_data['좌표Y'].fillna(merged_data['좌표Y_외부'])\n",
    "\n",
    "# 7. 불필요한 컬럼 삭제\n",
    "merged_data = merged_data.drop(columns=['좌표X_외부', '좌표Y_외부', '도로명'])\n",
    "\n",
    "# 8. 좌표X, 좌표Y 선형 보간 (양방향 보간)\n",
    "merged_data['좌표X'] = merged_data['좌표X'].interpolate(method='linear', limit_direction='both')\n",
    "merged_data['좌표Y'] = merged_data['좌표Y'].interpolate(method='linear', limit_direction='both')\n",
    "\n"
   ]
  },
  {
   "cell_type": "code",
   "execution_count": 71,
   "id": "d35debd7",
   "metadata": {},
   "outputs": [
    {
     "name": "stdout",
     "output_type": "stream",
     "text": [
      "📌 전체 결측치 현황 (결측치가 있는 컬럼만):\n",
      "\n",
      " - target: 9,915개\n"
     ]
    }
   ],
   "source": [
    "# 1. 전체 결측치 개수 확인 (컬럼별)\n",
    "missing_summary = merged_data.isnull().sum()\n",
    "\n",
    "# 2. 결측치가 존재하는 컬럼만 필터링\n",
    "missing_columns = missing_summary[missing_summary > 0]\n",
    "\n",
    "# 3. 결과 출력\n",
    "print(\"📌 전체 결측치 현황 (결측치가 있는 컬럼만):\\n\")\n",
    "for col, missing_count in missing_columns.items():\n",
    "    print(f\" - {col}: {missing_count:,}개\")\n",
    "\n",
    "# 4. 결측치 있는 컬럼명만 리스트로 추출 (필요시)\n",
    "missing_cols_list = missing_columns.index.tolist()"
   ]
  },
  {
   "cell_type": "markdown",
   "id": "7344c86b",
   "metadata": {},
   "source": [
    "# 이상치 제거"
   ]
  },
  {
   "cell_type": "code",
   "execution_count": 72,
   "id": "ee9b82c6",
   "metadata": {},
   "outputs": [
    {
     "data": {
      "text/html": [
       "<div>\n",
       "<style scoped>\n",
       "    .dataframe tbody tr th:only-of-type {\n",
       "        vertical-align: middle;\n",
       "    }\n",
       "\n",
       "    .dataframe tbody tr th {\n",
       "        vertical-align: top;\n",
       "    }\n",
       "\n",
       "    .dataframe thead th {\n",
       "        text-align: right;\n",
       "    }\n",
       "</style>\n",
       "<table border=\"1\" class=\"dataframe\">\n",
       "  <thead>\n",
       "    <tr style=\"text-align: right;\">\n",
       "      <th></th>\n",
       "      <th>이상치 개수</th>\n",
       "      <th>비율(%)</th>\n",
       "    </tr>\n",
       "  </thead>\n",
       "  <tbody>\n",
       "    <tr>\n",
       "      <th>k-전용면적별세대현황(60㎡~85㎡이하)</th>\n",
       "      <td>217947.0</td>\n",
       "      <td>18.25</td>\n",
       "    </tr>\n",
       "    <tr>\n",
       "      <th>k-전용면적별세대현황(60㎡이하)</th>\n",
       "      <td>208115.0</td>\n",
       "      <td>17.42</td>\n",
       "    </tr>\n",
       "    <tr>\n",
       "      <th>k-85㎡~135㎡이하</th>\n",
       "      <td>157622.0</td>\n",
       "      <td>13.20</td>\n",
       "    </tr>\n",
       "    <tr>\n",
       "      <th>건축면적</th>\n",
       "      <td>119463.0</td>\n",
       "      <td>10.00</td>\n",
       "    </tr>\n",
       "    <tr>\n",
       "      <th>주차대수</th>\n",
       "      <td>118578.0</td>\n",
       "      <td>9.93</td>\n",
       "    </tr>\n",
       "    <tr>\n",
       "      <th>k-주거전용면적</th>\n",
       "      <td>110937.0</td>\n",
       "      <td>9.29</td>\n",
       "    </tr>\n",
       "    <tr>\n",
       "      <th>k-전체동수</th>\n",
       "      <td>108276.0</td>\n",
       "      <td>9.07</td>\n",
       "    </tr>\n",
       "    <tr>\n",
       "      <th>전용면적(㎡)</th>\n",
       "      <td>90595.0</td>\n",
       "      <td>7.58</td>\n",
       "    </tr>\n",
       "    <tr>\n",
       "      <th>target</th>\n",
       "      <td>80775.0</td>\n",
       "      <td>6.76</td>\n",
       "    </tr>\n",
       "    <tr>\n",
       "      <th>층</th>\n",
       "      <td>11301.0</td>\n",
       "      <td>0.95</td>\n",
       "    </tr>\n",
       "    <tr>\n",
       "      <th>건축년도</th>\n",
       "      <td>9214.0</td>\n",
       "      <td>0.77</td>\n",
       "    </tr>\n",
       "    <tr>\n",
       "      <th>계약년월</th>\n",
       "      <td>0.0</td>\n",
       "      <td>0.00</td>\n",
       "    </tr>\n",
       "    <tr>\n",
       "      <th>계약일</th>\n",
       "      <td>0.0</td>\n",
       "      <td>0.00</td>\n",
       "    </tr>\n",
       "    <tr>\n",
       "      <th>좌표X</th>\n",
       "      <td>0.0</td>\n",
       "      <td>0.00</td>\n",
       "    </tr>\n",
       "    <tr>\n",
       "      <th>좌표Y</th>\n",
       "      <td>0.0</td>\n",
       "      <td>0.00</td>\n",
       "    </tr>\n",
       "  </tbody>\n",
       "</table>\n",
       "</div>"
      ],
      "text/plain": [
       "                          이상치 개수  비율(%)\n",
       "k-전용면적별세대현황(60㎡~85㎡이하)  217947.0  18.25\n",
       "k-전용면적별세대현황(60㎡이하)      208115.0  17.42\n",
       "k-85㎡~135㎡이하            157622.0  13.20\n",
       "건축면적                    119463.0  10.00\n",
       "주차대수                    118578.0   9.93\n",
       "k-주거전용면적                110937.0   9.29\n",
       "k-전체동수                  108276.0   9.07\n",
       "전용면적(㎡)                  90595.0   7.58\n",
       "target                   80775.0   6.76\n",
       "층                        11301.0   0.95\n",
       "건축년도                      9214.0   0.77\n",
       "계약년월                         0.0   0.00\n",
       "계약일                          0.0   0.00\n",
       "좌표X                          0.0   0.00\n",
       "좌표Y                          0.0   0.00"
      ]
     },
     "metadata": {},
     "output_type": "display_data"
    }
   ],
   "source": [
    "# 연속형 변수 추출\n",
    "numeric_cols = merged_data.select_dtypes(include=['number']).columns.tolist()\n",
    "\n",
    "# 1. train 데이터만 필터링\n",
    "train_data = merged_data[merged_data['data_type'] == 'train']\n",
    "\n",
    "# 2. 이상치 분석 (train 데이터 기준)\n",
    "outlier_summary = {}\n",
    "\n",
    "for col in numeric_cols:\n",
    "    Q1 = train_data[col].quantile(0.25)\n",
    "    Q3 = train_data[col].quantile(0.75)\n",
    "    IQR = Q3 - Q1\n",
    "    lower_bound = Q1 - 1.5 * IQR\n",
    "    upper_bound = Q3 + 1.5 * IQR\n",
    "\n",
    "    outliers = train_data[(train_data[col] < lower_bound) | (train_data[col] > upper_bound)]\n",
    "    outlier_count = outliers.shape[0]\n",
    "    outlier_ratio = outlier_count / train_data.shape[0] * 100\n",
    "\n",
    "    outlier_summary[col] = {'이상치 개수': outlier_count, '비율(%)': round(outlier_ratio, 2)}\n",
    "\n",
    "# 3. 결과 정리\n",
    "outlier_df = pd.DataFrame(outlier_summary).T.sort_values(by='비율(%)', ascending=False)\n",
    "\n",
    "display(outlier_df)\n",
    "\n"
   ]
  },
  {
   "cell_type": "code",
   "execution_count": 73,
   "id": "a56f74a4",
   "metadata": {},
   "outputs": [],
   "source": [
    "target_cols = ['건축면적', '주차대수', 'k-주거전용면적', 'k-전체동수', '전용면적(㎡)']\n",
    "\n",
    "# 이상치 제거 함수 (train 데이터만)\n",
    "def remove_outliers_iqr(df, cols):\n",
    "    # 1. train 데이터만 필터링\n",
    "    train_df = df[df['data_type'] == 'train'].copy()\n",
    "    test_df = df[df['data_type'] != 'train'].copy()   # test 데이터는 그대로\n",
    "    \n",
    "    # 2. 각 변수에 대해 이상치 제거\n",
    "    for col in cols:\n",
    "        Q1 = train_df[col].quantile(0.25)\n",
    "        Q3 = train_df[col].quantile(0.75)\n",
    "        IQR = Q3 - Q1\n",
    "        lower_bound = Q1 - 1.5 * IQR\n",
    "        upper_bound = Q3 + 1.5 * IQR\n",
    "        train_df = train_df[(train_df[col] >= lower_bound) & (train_df[col] <= upper_bound)]\n",
    "    \n",
    "    # 3. train과 test 다시 합치기\n",
    "    cleaned_df = pd.concat([train_df, test_df]).sort_index()\n",
    "    \n",
    "    return cleaned_df\n",
    "\n",
    "# 적용\n",
    "merged_data_clean = remove_outliers_iqr(merged_data, target_cols)"
   ]
  },
  {
   "cell_type": "markdown",
   "id": "404e11fd",
   "metadata": {},
   "source": []
  },
  {
   "cell_type": "code",
   "execution_count": 74,
   "id": "43c80202",
   "metadata": {},
   "outputs": [
    {
     "name": "stdout",
     "output_type": "stream",
     "text": [
      "Before: (1204322, 41)\n",
      "After: (843447, 41)\n",
      "\n",
      "================================================================================\n",
      "\n",
      "data_type\n",
      "train    1194407\n",
      "test        9915\n",
      "Name: count, dtype: int64\n",
      "data_type\n",
      "train    833532\n",
      "test       9915\n",
      "Name: count, dtype: int64\n"
     ]
    }
   ],
   "source": [
    "print(\"Before:\", merged_data.shape)\n",
    "print(\"After:\", merged_data_clean.shape)\n",
    "\n",
    "print(\"\\n\" + \"=\"*80 + \"\\n\") \n",
    "\n",
    "print(merged_data['data_type'].value_counts())\n",
    "print(merged_data_clean['data_type'].value_counts())"
   ]
  },
  {
   "cell_type": "markdown",
   "id": "747a6615",
   "metadata": {},
   "source": [
    "# Feature 수정"
   ]
  },
  {
   "cell_type": "markdown",
   "id": "26b81e02",
   "metadata": {},
   "source": []
  },
  {
   "cell_type": "code",
   "execution_count": 75,
   "id": "bb1f95a9",
   "metadata": {},
   "outputs": [],
   "source": [
    "clean_data = merged_data_clean.copy()"
   ]
  },
  {
   "cell_type": "code",
   "execution_count": 76,
   "id": "e44fde94",
   "metadata": {},
   "outputs": [],
   "source": [
    "# 제거할 컬럼 리스트\n",
    "cols_to_drop = [\n",
    "    '단지신청일', 'k-단지분류(아파트,주상복합등등)', 'k-전화번호', 'k-팩스번호',\n",
    "    'k-세대타입(분양형태)', 'k-관리방식', 'k-복도유형', 'k-난방방식',\n",
    "    'k-전용면적별세대현황(60㎡이하)', 'k-전용면적별세대현황(60㎡~85㎡이하)', 'k-85㎡~135㎡이하',\n",
    "    '기타/의무/임대/임의=1/2/3/4', '단지승인일', '사용허가여부', '관리비 업로드',\n",
    "    'k-건설사(시공사)', 'k-시행사', 'k-사용검사일-사용승인일',\n",
    "    '청소비관리형태', '경비비관리형태', '세대전기계약방법', 'k-수정일자','고용보험관리번호'\n",
    "]\n",
    "\n",
    "# DataFrame에서 컬럼 제거 (예: clean_data 기준)\n",
    "clean_data = clean_data.drop(columns=cols_to_drop)"
   ]
  },
  {
   "cell_type": "code",
   "execution_count": 77,
   "id": "f2dbf505",
   "metadata": {},
   "outputs": [
    {
     "name": "stdout",
     "output_type": "stream",
     "text": [
      "남은 컬럼 수: 18\n",
      "남은 컬럼 목록:\n",
      " ['시군구', '번지', '본번', '부번', '아파트명', '전용면적(㎡)', '계약년월', '계약일', '층', '건축년도', 'k-전체동수', 'k-주거전용면적', '건축면적', '주차대수', '좌표X', '좌표Y', 'target', 'data_type']\n"
     ]
    }
   ],
   "source": [
    "print(\"남은 컬럼 수:\", clean_data.shape[1])\n",
    "print(\"남은 컬럼 목록:\\n\", clean_data.columns.tolist())"
   ]
  },
  {
   "cell_type": "markdown",
   "id": "69d5e2d2",
   "metadata": {},
   "source": [
    "### 800m내 지하철 개수"
   ]
  },
  {
   "cell_type": "code",
   "execution_count": 78,
   "id": "7a931e57",
   "metadata": {},
   "outputs": [],
   "source": [
    "# 지하철 데이터\n",
    "subway_df = pd.read_csv('/root/ML_Contest/data/subway_feature.csv')\n",
    "subway_coords = np.radians(subway_df[['위도', '경도']].values)\n",
    "\n",
    "# 2. 거리 계산 함수 (벡터화된 haversine)\n",
    "def haversine_vectorized(lat1, lon1, lat2, lon2):\n",
    "    R = 6371000  # 지구 반지름 (m)\n",
    "    dlat = lat2 - lat1[:, np.newaxis]      # Broadcasting\n",
    "    dlon = lon2 - lon1[:, np.newaxis]\n",
    "    a = np.sin(dlat / 2) ** 2 + np.cos(lat1[:, np.newaxis]) * np.cos(lat2) * np.sin(dlon / 2) ** 2\n",
    "    c = 2 * np.arctan2(np.sqrt(a), np.sqrt(1 - a))\n",
    "    return R * c\n",
    "\n",
    "# 3. 아파트 좌표 (clean_data 기준)\n",
    "apt_coords = np.radians(clean_data[['좌표Y', '좌표X']].values)\n",
    "apt_lat, apt_lon = apt_coords[:, 0], apt_coords[:, 1]\n",
    "sub_lat, sub_lon = subway_coords[:, 0], subway_coords[:, 1]\n",
    "\n",
    "# 4. 거리 계산 (아파트 ↔ 지하철역)\n",
    "distances = haversine_vectorized(apt_lat, apt_lon, sub_lat, sub_lon)\n",
    "\n",
    "# 5. 800m 반경 내 지하철역 개수 계산\n",
    "within_800m = (distances <= 800).sum(axis=1)\n",
    "\n",
    "# 6. 결과 컬럼 추가\n",
    "clean_data['800m_지하철역_개수'] = within_800m\n"
   ]
  },
  {
   "cell_type": "markdown",
   "id": "e0a1e0f6",
   "metadata": {},
   "source": [
    "### target_log"
   ]
  },
  {
   "cell_type": "code",
   "execution_count": 79,
   "id": "0b7b8cb1",
   "metadata": {},
   "outputs": [
    {
     "data": {
      "image/png": "[encoded data removed]",
      "text/plain": [
       "<Figure size 800x400 with 1 Axes>"
      ]
     },
     "metadata": {},
     "output_type": "display_data"
    }
   ],
   "source": [
    "plt.figure(figsize=(8, 4))\n",
    "sns.histplot(clean_data['target'], kde=True)\n",
    "plt.title(\"Target 분포 및 밀도 (clean_data 기준)\")\n",
    "plt.xlabel(\"Target\")\n",
    "plt.ylabel(\"Count\")\n",
    "plt.show()"
   ]
  },
  {
   "cell_type": "code",
   "execution_count": 80,
   "id": "6dfd9892",
   "metadata": {},
   "outputs": [],
   "source": [
    "# 로그 변환 전: 0 이하 값 있으면 +1\n",
    "clean_data['target_for_log'] = clean_data['target'].apply(lambda x: x if x > 0 else 1)\n",
    "\n",
    "# 로그 변환 적용\n",
    "clean_data['log_target'] = np.log1p(clean_data['target_for_log'])\n"
   ]
  },
  {
   "cell_type": "code",
   "execution_count": 81,
   "id": "8d3f1afa",
   "metadata": {},
   "outputs": [
    {
     "data": {
      "image/png": "[encoded data removed]",
      "text/plain": [
       "<Figure size 800x400 with 1 Axes>"
      ]
     },
     "metadata": {},
     "output_type": "display_data"
    }
   ],
   "source": [
    "plt.figure(figsize=(8, 4))\n",
    "sns.histplot(clean_data['log_target'], kde=True)\n",
    "plt.title(\"Log 변환된 Target 분포\")\n",
    "plt.xlabel(\"log(Target)\")\n",
    "plt.ylabel(\"Count\")\n",
    "plt.show()\n"
   ]
  },
  {
   "cell_type": "markdown",
   "id": "763ecbc0",
   "metadata": {},
   "source": [
    "### COVID 전/후 분리 (계약년월 202001기준)"
   ]
  },
  {
   "cell_type": "code",
   "execution_count": 82,
   "id": "ac50d896",
   "metadata": {},
   "outputs": [],
   "source": [
    "# 계약년월 기준: 2020년 1월부터 코로나 이후로 간주\n",
    "clean_data['covid_period'] = (clean_data['계약년월'] >= 202001).astype(int)\n",
    "\n",
    "\n",
    "#0: 코로나 이전, 1: 코로나 이후"
   ]
  },
  {
   "cell_type": "markdown",
   "id": "42fc5bd8",
   "metadata": {},
   "source": [
    "# Model Training\n",
    "- 2025.07.14\n",
    "\n"
   ]
  },
  {
   "cell_type": "code",
   "execution_count": 83,
   "id": "49ece6d3",
   "metadata": {},
   "outputs": [
    {
     "name": "stdout",
     "output_type": "stream",
     "text": [
      "(833532, 21) (9915, 21)\n"
     ]
    }
   ],
   "source": [
    "# 이제 다시 train과 test dataset을 분할해줍니다. \n",
    "dt_train = clean_data.query(\"data_type == 'train'\")\n",
    "dt_test = clean_data.query(\"data_type == 'test'\")\n",
    "\n",
    "# 이제 data_type 칼럼은 drop.\n",
    "dt_train.drop(['data_type'], axis = 1, inplace=True)\n",
    "dt_test.drop(['data_type'], axis = 1, inplace=True)\n",
    "print(dt_train.shape, dt_test.shape)"
   ]
  },
  {
   "cell_type": "code",
   "execution_count": 84,
   "id": "4bf3e5f5",
   "metadata": {},
   "outputs": [
    {
     "name": "stdout",
     "output_type": "stream",
     "text": [
      "False\n",
      "False\n"
     ]
    }
   ],
   "source": [
    "print('data_type' in dt_train.columns)  # False여야 정상\n",
    "print('data_type' in dt_test.columns) "
   ]
  },
  {
   "cell_type": "code",
   "execution_count": 85,
   "id": "63db9519",
   "metadata": {},
   "outputs": [
    {
     "data": {
      "text/html": [
       "<div>\n",
       "<style scoped>\n",
       "    .dataframe tbody tr th:only-of-type {\n",
       "        vertical-align: middle;\n",
       "    }\n",
       "\n",
       "    .dataframe tbody tr th {\n",
       "        vertical-align: top;\n",
       "    }\n",
       "\n",
       "    .dataframe thead th {\n",
       "        text-align: right;\n",
       "    }\n",
       "</style>\n",
       "<table border=\"1\" class=\"dataframe\">\n",
       "  <thead>\n",
       "    <tr style=\"text-align: right;\">\n",
       "      <th></th>\n",
       "      <th>시군구</th>\n",
       "      <th>번지</th>\n",
       "      <th>본번</th>\n",
       "      <th>부번</th>\n",
       "      <th>아파트명</th>\n",
       "      <th>전용면적(㎡)</th>\n",
       "      <th>계약년월</th>\n",
       "      <th>계약일</th>\n",
       "      <th>층</th>\n",
       "      <th>건축년도</th>\n",
       "      <th>k-전체동수</th>\n",
       "      <th>k-주거전용면적</th>\n",
       "      <th>건축면적</th>\n",
       "      <th>주차대수</th>\n",
       "      <th>좌표X</th>\n",
       "      <th>좌표Y</th>\n",
       "      <th>target</th>\n",
       "      <th>800m_지하철역_개수</th>\n",
       "      <th>target_for_log</th>\n",
       "      <th>log_target</th>\n",
       "      <th>covid_period</th>\n",
       "    </tr>\n",
       "  </thead>\n",
       "  <tbody>\n",
       "    <tr>\n",
       "      <th>1194407</th>\n",
       "      <td>서울특별시 강남구 개포동</td>\n",
       "      <td>658-1</td>\n",
       "      <td>658.0</td>\n",
       "      <td>1.0</td>\n",
       "      <td>개포6차우성</td>\n",
       "      <td>79.97</td>\n",
       "      <td>202307</td>\n",
       "      <td>26</td>\n",
       "      <td>5</td>\n",
       "      <td>1987</td>\n",
       "      <td>8.0</td>\n",
       "      <td>20204.0</td>\n",
       "      <td>4858.0</td>\n",
       "      <td>262.0</td>\n",
       "      <td>127.05721</td>\n",
       "      <td>37.476763</td>\n",
       "      <td>NaN</td>\n",
       "      <td>0</td>\n",
       "      <td>1.0</td>\n",
       "      <td>0.693147</td>\n",
       "      <td>1</td>\n",
       "    </tr>\n",
       "  </tbody>\n",
       "</table>\n",
       "</div>"
      ],
      "text/plain": [
       "                   시군구     번지     본번   부번    아파트명  전용면적(㎡)    계약년월  계약일  층  \\\n",
       "1194407  서울특별시 강남구 개포동  658-1  658.0  1.0  개포6차우성    79.97  202307   26  5   \n",
       "\n",
       "         건축년도  k-전체동수  k-주거전용면적    건축면적   주차대수        좌표X        좌표Y  target  \\\n",
       "1194407  1987     8.0   20204.0  4858.0  262.0  127.05721  37.476763     NaN   \n",
       "\n",
       "         800m_지하철역_개수  target_for_log  log_target  covid_period  \n",
       "1194407             0             1.0    0.693147             1  "
      ]
     },
     "execution_count": 85,
     "metadata": {},
     "output_type": "execute_result"
    }
   ],
   "source": [
    "dt_test.head(1)"
   ]
  },
  {
   "cell_type": "code",
   "execution_count": 86,
   "id": "7f28e8bb",
   "metadata": {},
   "outputs": [],
   "source": [
    "# dt_test의 target은 일단 0으로 임의로 채워주기\n",
    "dt_test['target'] = 0.0  # 즉, log(1) = 0 으로\n"
   ]
  },
  {
   "cell_type": "markdown",
   "id": "165db800",
   "metadata": {},
   "source": [
    "### 범주형 변수 Encoding"
   ]
  },
  {
   "cell_type": "code",
   "execution_count": 87,
   "id": "3a28208b",
   "metadata": {},
   "outputs": [
    {
     "name": "stdout",
     "output_type": "stream",
     "text": [
      "연속형 변수: ['전용면적(㎡)', '계약년월', '계약일', '층', '건축년도', 'k-전체동수', 'k-주거전용면적', '건축면적', '주차대수', '좌표X', '좌표Y', 'target', '800m_지하철역_개수', 'target_for_log', 'log_target', 'covid_period']\n",
      "범주형 변수: ['시군구', '번지', '본번', '부번', '아파트명']\n"
     ]
    }
   ],
   "source": [
    "# 파생변수 제작으로 추가된 변수들이 존재하기에, 다시한번 연속형과 범주형 칼럼을 분리해주겠습니다.\n",
    "continuous_columns_v2 = []\n",
    "categorical_columns_v2 = []\n",
    "\n",
    "for column in dt_train.columns:\n",
    "    if pd.api.types.is_numeric_dtype(dt_train[column]):\n",
    "        continuous_columns_v2.append(column)\n",
    "    else:\n",
    "        categorical_columns_v2.append(column)\n",
    "\n",
    "print(\"연속형 변수:\", continuous_columns_v2)\n",
    "print(\"범주형 변수:\", categorical_columns_v2)"
   ]
  },
  {
   "cell_type": "code",
   "execution_count": 88,
   "id": "1ec7b49f",
   "metadata": {},
   "outputs": [],
   "source": [
    "from tqdm import tqdm\n",
    "\n",
    "# Model\n",
    "from sklearn.preprocessing import LabelEncoder\n",
    "from sklearn.model_selection import train_test_split\n",
    "from sklearn.metrics import mean_squared_error\n",
    "from sklearn.ensemble import RandomForestRegressor\n",
    "from sklearn import metrics\n",
    "from sklearn.inspection import permutation_importance"
   ]
  },
  {
   "cell_type": "code",
   "execution_count": 89,
   "id": "acba9485",
   "metadata": {},
   "outputs": [
    {
     "name": "stderr",
     "output_type": "stream",
     "text": [
      " 40%|████      | 2/5 [00:00<00:00,  4.63it/s]"
     ]
    },
    {
     "name": "stderr",
     "output_type": "stream",
     "text": [
      "100%|██████████| 5/5 [00:01<00:00,  4.88it/s]\n"
     ]
    }
   ],
   "source": [
    "# 아래에서 범주형 변수들을 대상으로 레이블인코딩을 진행해 주겠습니다.\n",
    "\n",
    "# 각 변수에 대한 LabelEncoder를 저장할 딕셔너리\n",
    "label_encoders = {}\n",
    "\n",
    "# Implement Label Encoding\n",
    "for col in tqdm( categorical_columns_v2 ):\n",
    "    lbl = LabelEncoder()\n",
    "\n",
    "    # Label-Encoding을 fit\n",
    "    lbl.fit( dt_train[col].astype(str) )\n",
    "    dt_train[col] = lbl.transform(dt_train[col].astype(str))\n",
    "    label_encoders[col] = lbl           # 나중에 후처리를 위해 레이블인코더를 저장해주겠습니다.\n",
    "\n",
    "    # Test 데이터에만 존재하는 새로 출현한 데이터를 신규 클래스로 추가해줍니다.\n",
    "    for label in np.unique(dt_test[col]):\n",
    "      if label not in lbl.classes_: # unseen label 데이터인 경우\n",
    "        lbl.classes_ = np.append(lbl.classes_, label) # 미처리 시 ValueError발생하니 주의하세요!\n",
    "\n",
    "    dt_test[col] = lbl.transform(dt_test[col].astype(str))"
   ]
  },
  {
   "cell_type": "code",
   "execution_count": 90,
   "id": "7f4b4dc5",
   "metadata": {},
   "outputs": [
    {
     "data": {
      "text/html": [
       "<div>\n",
       "<style scoped>\n",
       "    .dataframe tbody tr th:only-of-type {\n",
       "        vertical-align: middle;\n",
       "    }\n",
       "\n",
       "    .dataframe tbody tr th {\n",
       "        vertical-align: top;\n",
       "    }\n",
       "\n",
       "    .dataframe thead th {\n",
       "        text-align: right;\n",
       "    }\n",
       "</style>\n",
       "<table border=\"1\" class=\"dataframe\">\n",
       "  <thead>\n",
       "    <tr style=\"text-align: right;\">\n",
       "      <th></th>\n",
       "      <th>시군구</th>\n",
       "      <th>번지</th>\n",
       "      <th>본번</th>\n",
       "      <th>부번</th>\n",
       "      <th>아파트명</th>\n",
       "      <th>전용면적(㎡)</th>\n",
       "      <th>계약년월</th>\n",
       "      <th>계약일</th>\n",
       "      <th>층</th>\n",
       "      <th>건축년도</th>\n",
       "      <th>k-전체동수</th>\n",
       "      <th>k-주거전용면적</th>\n",
       "      <th>건축면적</th>\n",
       "      <th>주차대수</th>\n",
       "      <th>좌표X</th>\n",
       "      <th>좌표Y</th>\n",
       "      <th>target</th>\n",
       "      <th>800m_지하철역_개수</th>\n",
       "      <th>target_for_log</th>\n",
       "      <th>log_target</th>\n",
       "      <th>covid_period</th>\n",
       "    </tr>\n",
       "  </thead>\n",
       "  <tbody>\n",
       "    <tr>\n",
       "      <th>0</th>\n",
       "      <td>0</td>\n",
       "      <td>4208</td>\n",
       "      <td>1095</td>\n",
       "      <td>1</td>\n",
       "      <td>275</td>\n",
       "      <td>79.97</td>\n",
       "      <td>201712</td>\n",
       "      <td>8</td>\n",
       "      <td>3</td>\n",
       "      <td>1987</td>\n",
       "      <td>8.0</td>\n",
       "      <td>20204.0</td>\n",
       "      <td>4858.0</td>\n",
       "      <td>262.0</td>\n",
       "      <td>127.05721</td>\n",
       "      <td>37.476763</td>\n",
       "      <td>124000.0</td>\n",
       "      <td>0</td>\n",
       "      <td>124000.0</td>\n",
       "      <td>11.728045</td>\n",
       "      <td>0</td>\n",
       "    </tr>\n",
       "  </tbody>\n",
       "</table>\n",
       "</div>"
      ],
      "text/plain": [
       "   시군구    번지    본번  부번  아파트명  전용면적(㎡)    계약년월  계약일  층  건축년도  k-전체동수  k-주거전용면적  \\\n",
       "0    0  4208  1095   1   275    79.97  201712    8  3  1987     8.0   20204.0   \n",
       "\n",
       "     건축면적   주차대수        좌표X        좌표Y    target  800m_지하철역_개수  \\\n",
       "0  4858.0  262.0  127.05721  37.476763  124000.0             0   \n",
       "\n",
       "   target_for_log  log_target  covid_period  \n",
       "0        124000.0   11.728045             0  "
      ]
     },
     "execution_count": 90,
     "metadata": {},
     "output_type": "execute_result"
    }
   ],
   "source": [
    "dt_train.head(1) "
   ]
  },
  {
   "cell_type": "markdown",
   "id": "9bfad74f",
   "metadata": {},
   "source": [
    "### Model training\n"
   ]
  },
  {
   "cell_type": "code",
   "execution_count": 91,
   "id": "732f3e7d",
   "metadata": {},
   "outputs": [],
   "source": [
    "assert dt_train.shape[1] == dt_test.shape[1]          \n",
    "\n",
    "# train/test dataset의 shape이 같은지 확인.\n",
    "#True인 경우 넘어감. False인 경우 (조건을 만족하지 않는 경우) 에러를 발생시켜 프로그램 중단"
   ]
  },
  {
   "cell_type": "code",
   "execution_count": 92,
   "id": "edb550d0",
   "metadata": {},
   "outputs": [
    {
     "name": "stdout",
     "output_type": "stream",
     "text": [
      "📊 RMSE (로그 복원 후): 4668.61\n"
     ]
    }
   ],
   "source": [
    "# Target과 독립변수 분리 (log 변환된 타겟 사용)\n",
    "y_train = dt_train['log_target']  # ← 여기 수정\n",
    "X_train = dt_train.drop(['target', 'target_for_log', 'log_target'], axis=1)\n",
    "\n",
    "# Hold-out split: 학습/검증 데이터 8:2 분리\n",
    "X_train, X_val, y_train, y_val = train_test_split(\n",
    "    X_train, y_train, test_size=0.2, random_state=2023\n",
    ")\n",
    "\n",
    "# 모델 학습 (RandomForest)\n",
    "model = RandomForestRegressor(n_estimators=100, criterion='squared_error', random_state=1, n_jobs=-1)\n",
    "model.fit(X_train, y_train)\n",
    "\n",
    "# 검증 데이터 예측 (로그 스케일)\n",
    "pred_log = model.predict(X_val)\n",
    "\n",
    "# 역변환: 로그 스케일 → 원래 단위로 복원\n",
    "y_val_original = np.expm1(y_val)\n",
    "pred_original = np.expm1(pred_log)\n",
    "\n",
    "# 성능 평가 (원 단위 기준 RMSE)\n",
    "rmse = np.sqrt(mean_squared_error(y_val_original, pred_original))\n",
    "print(f'📊 RMSE (로그 복원 후): {rmse:.2f}')"
   ]
  },
  {
   "cell_type": "code",
   "execution_count": 93,
   "id": "f336ddca",
   "metadata": {},
   "outputs": [
    {
     "data": {
      "image/png": "[encoded data removed]",
      "text/plain": [
       "<Figure size 1000x800 with 1 Axes>"
      ]
     },
     "metadata": {},
     "output_type": "display_data"
    }
   ],
   "source": [
    "# 변수 중요도 확인# 위 feature importance를 시각화해봅니다.\n",
    "importances = pd.Series(model.feature_importances_, index=list(X_train.columns))\n",
    "importances = importances.sort_values(ascending=False)\n",
    "\n",
    "plt.figure(figsize=(10,8))\n",
    "plt.title(\"Feature Importances\")\n",
    "sns.barplot(x=importances, y=importances.index)\n",
    "plt.show()"
   ]
  },
  {
   "cell_type": "code",
   "execution_count": 94,
   "id": "c037324c",
   "metadata": {},
   "outputs": [],
   "source": [
    "# 학습된 모델을 저장합니다. Pickle 라이브러리를 이용\n",
    "with open('saved_model.pkl', 'wb') as f:\n",
    "    pickle.dump(model, f)"
   ]
  },
  {
   "cell_type": "markdown",
   "id": "c5aaf0ca",
   "metadata": {},
   "source": [
    "## Inference"
   ]
  },
  {
   "cell_type": "code",
   "execution_count": 95,
   "id": "582dbe12",
   "metadata": {},
   "outputs": [
    {
     "data": {
      "text/html": [
       "<div>\n",
       "<style scoped>\n",
       "    .dataframe tbody tr th:only-of-type {\n",
       "        vertical-align: middle;\n",
       "    }\n",
       "\n",
       "    .dataframe tbody tr th {\n",
       "        vertical-align: top;\n",
       "    }\n",
       "\n",
       "    .dataframe thead th {\n",
       "        text-align: right;\n",
       "    }\n",
       "</style>\n",
       "<table border=\"1\" class=\"dataframe\">\n",
       "  <thead>\n",
       "    <tr style=\"text-align: right;\">\n",
       "      <th></th>\n",
       "      <th>시군구</th>\n",
       "      <th>번지</th>\n",
       "      <th>본번</th>\n",
       "      <th>부번</th>\n",
       "      <th>아파트명</th>\n",
       "      <th>전용면적(㎡)</th>\n",
       "      <th>계약년월</th>\n",
       "      <th>계약일</th>\n",
       "      <th>층</th>\n",
       "      <th>건축년도</th>\n",
       "      <th>k-전체동수</th>\n",
       "      <th>k-주거전용면적</th>\n",
       "      <th>건축면적</th>\n",
       "      <th>주차대수</th>\n",
       "      <th>좌표X</th>\n",
       "      <th>좌표Y</th>\n",
       "      <th>target</th>\n",
       "      <th>800m_지하철역_개수</th>\n",
       "      <th>target_for_log</th>\n",
       "      <th>log_target</th>\n",
       "      <th>covid_period</th>\n",
       "    </tr>\n",
       "  </thead>\n",
       "  <tbody>\n",
       "    <tr>\n",
       "      <th>1194407</th>\n",
       "      <td>0</td>\n",
       "      <td>4208</td>\n",
       "      <td>1095</td>\n",
       "      <td>1</td>\n",
       "      <td>275</td>\n",
       "      <td>79.9700</td>\n",
       "      <td>202307</td>\n",
       "      <td>26</td>\n",
       "      <td>5</td>\n",
       "      <td>1987</td>\n",
       "      <td>8.0</td>\n",
       "      <td>20204.0</td>\n",
       "      <td>4858.00</td>\n",
       "      <td>262.0</td>\n",
       "      <td>127.057210</td>\n",
       "      <td>37.476763</td>\n",
       "      <td>0.0</td>\n",
       "      <td>0</td>\n",
       "      <td>1.0</td>\n",
       "      <td>0.693147</td>\n",
       "      <td>1</td>\n",
       "    </tr>\n",
       "    <tr>\n",
       "      <th>1194408</th>\n",
       "      <td>0</td>\n",
       "      <td>4184</td>\n",
       "      <td>1088</td>\n",
       "      <td>1</td>\n",
       "      <td>276</td>\n",
       "      <td>108.2017</td>\n",
       "      <td>202308</td>\n",
       "      <td>15</td>\n",
       "      <td>10</td>\n",
       "      <td>2021</td>\n",
       "      <td>2.0</td>\n",
       "      <td>24878.0</td>\n",
       "      <td>2724.46</td>\n",
       "      <td>305.0</td>\n",
       "      <td>127.056394</td>\n",
       "      <td>37.484892</td>\n",
       "      <td>0.0</td>\n",
       "      <td>3</td>\n",
       "      <td>1.0</td>\n",
       "      <td>0.693147</td>\n",
       "      <td>1</td>\n",
       "    </tr>\n",
       "  </tbody>\n",
       "</table>\n",
       "</div>"
      ],
      "text/plain": [
       "         시군구    번지    본번  부번  아파트명   전용면적(㎡)    계약년월  계약일   층  건축년도  k-전체동수  \\\n",
       "1194407    0  4208  1095   1   275   79.9700  202307   26   5  1987     8.0   \n",
       "1194408    0  4184  1088   1   276  108.2017  202308   15  10  2021     2.0   \n",
       "\n",
       "         k-주거전용면적     건축면적   주차대수         좌표X        좌표Y  target  \\\n",
       "1194407   20204.0  4858.00  262.0  127.057210  37.476763     0.0   \n",
       "1194408   24878.0  2724.46  305.0  127.056394  37.484892     0.0   \n",
       "\n",
       "         800m_지하철역_개수  target_for_log  log_target  covid_period  \n",
       "1194407             0             1.0    0.693147             1  \n",
       "1194408             3             1.0    0.693147             1  "
      ]
     },
     "execution_count": 95,
     "metadata": {},
     "output_type": "execute_result"
    }
   ],
   "source": [
    "dt_test.head(2)"
   ]
  },
  {
   "cell_type": "code",
   "execution_count": 96,
   "id": "e76e3aab",
   "metadata": {},
   "outputs": [],
   "source": [
    "with open('saved_model.pkl', 'rb') as f:\n",
    "    model = pickle.load(f)"
   ]
  },
  {
   "cell_type": "code",
   "execution_count": 97,
   "id": "c689cd59",
   "metadata": {},
   "outputs": [
    {
     "name": "stdout",
     "output_type": "stream",
     "text": [
      "CPU times: user 162 ms, sys: 3.54 ms, total: 166 ms\n",
      "Wall time: 36.3 ms\n"
     ]
    }
   ],
   "source": [
    "%%time\n",
    "X_test = dt_test.drop(['target', 'target_for_log', 'log_target'], axis=1)\n",
    "\n",
    "# Test dataset에 대한 inference를 진행\n",
    "real_test_pred_log = model.predict(X_test)"
   ]
  },
  {
   "cell_type": "code",
   "execution_count": 98,
   "id": "0846e9d8",
   "metadata": {},
   "outputs": [],
   "source": [
    "real_test_pred = np.expm1(real_test_pred_log)"
   ]
  },
  {
   "cell_type": "code",
   "execution_count": 99,
   "id": "98f9e628",
   "metadata": {},
   "outputs": [
    {
     "data": {
      "text/plain": [
       "array([204070.60048588, 283213.29645797, 283213.29645797, ...,\n",
       "        99769.53747239,  80886.21976888,  80369.48251923])"
      ]
     },
     "execution_count": 99,
     "metadata": {},
     "output_type": "execute_result"
    }
   ],
   "source": [
    "real_test_pred    "
   ]
  },
  {
   "cell_type": "markdown",
   "id": "ada91686",
   "metadata": {},
   "source": [
    "## Output File Save"
   ]
  },
  {
   "cell_type": "code",
   "execution_count": 100,
   "id": "80127f15",
   "metadata": {},
   "outputs": [],
   "source": [
    "preds_df = pd.DataFrame(real_test_pred.astype(int), columns=[\"target\"])\n",
    "preds_df.to_csv('output.csv', index=False)"
   ]
  },
  {
   "cell_type": "code",
   "execution_count": null,
   "id": "a76f36bb",
   "metadata": {},
   "outputs": [],
   "source": []
  }
 ],
 "metadata": {
  "kernelspec": {
   "display_name": "Python (real_estate_pred)",
   "language": "python",
   "name": "real_estate_pred"
  },
  "language_info": {
   "codemirror_mode": {
    "name": "ipython",
    "version": 3
   },
   "file_extension": ".py",
   "mimetype": "text/x-python",
   "name": "python",
   "nbconvert_exporter": "python",
   "pygments_lexer": "ipython3",
   "version": "3.9.23"
  }
 },
 "nbformat": 4,
 "nbformat_minor": 5
}
