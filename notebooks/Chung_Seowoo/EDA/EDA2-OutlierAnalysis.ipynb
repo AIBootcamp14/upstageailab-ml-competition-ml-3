{
 "cells": [
  {
   "cell_type": "code",
   "execution_count": 14,
   "id": "7c17638e",
   "metadata": {},
   "outputs": [],
   "source": [
    "# visualization\n",
    "import matplotlib.pyplot as plt\n",
    "import matplotlib.font_manager as fm\n",
    "fe = fm.FontEntry(\n",
    "    fname=r'/Users/chung/Library/Fonts/NanumGothic.otf', \n",
    "    name='NanumGothic')                     \n",
    "fm.fontManager.ttflist.insert(0, fe)              # Matplotlib에 폰트 추가 (0,fe):가장 우선순위로 추가하겠다는 뜻\n",
    "plt.rcParams.update({'font.size': 11, 'font.family': 'NanumGothic'}) # 폰트 설정\n",
    "plt.rc('font', family='NanumGothic')\n",
    "import seaborn as sns\n",
    "\n",
    "# utils\n",
    "import pandas as pd\n",
    "import numpy as np\n",
    "# from tqdm import tqdm\n",
    "import pickle\n",
    "import warnings;warnings.filterwarnings('ignore')"
   ]
  },
  {
   "cell_type": "code",
   "execution_count": null,
   "id": "ceb31666",
   "metadata": {},
   "outputs": [],
   "source": [
    "# apt_data_v1 = pd.read_csv('apt_data_v1.csv', na_values=['', ' ', 'NA'])\n"
   ]
  },
  {
   "cell_type": "code",
   "execution_count": null,
   "id": "433929a4",
   "metadata": {},
   "outputs": [
    {
     "name": "stdout",
     "output_type": "stream",
     "text": [
      "\n",
      "📌 전체 결측치 현황 (CSV 기준):\n",
      " - 번지: 227개\n",
      " - 본번: 75개\n",
      " - 부번: 75개\n",
      " - 아파트명: 2,136개\n",
      " - 도로명: 1,211개\n",
      " - k-단지분류(아파트,주상복합등등): 877,273개\n",
      " - k-전화번호: 876,850개\n",
      " - k-팩스번호: 879,348개\n",
      " - k-세대타입(분양형태): 876,125개\n",
      " - k-관리방식: 876,125개\n",
      " - k-복도유형: 876,454개\n",
      " - k-난방방식: 876,125개\n",
      " - k-건설사(시공사): 877,637개\n",
      " - k-시행사: 877,834개\n",
      " - k-사용검사일-사용승인일: 876,259개\n",
      " - k-수정일자: 876,170개\n",
      " - 고용보험관리번호: 920,757개\n",
      " - 경비비관리형태: 877,561개\n",
      " - 세대전기계약방법: 885,389개\n",
      " - 청소비관리형태: 877,751개\n",
      " - 기타/의무/임대/임의=1/2/3/4: 876,125개\n",
      " - 단지승인일: 876,854개\n",
      " - 사용허가여부: 876,125개\n",
      " - 관리비 업로드: 876,125개\n",
      " - 단지신청일: 876,187개\n",
      " - target: 9,272개\n"
     ]
    }
   ],
   "source": [
    "\n",
    "# # 결측치 확인\n",
    "# missing_summary = apt_data_v1.isnull().sum()\n",
    "# missing_columns = missing_summary[missing_summary > 0]\n",
    "\n",
    "# print(\"\\n📌 전체 결측치 현황 (CSV 기준):\")\n",
    "# for col, count in missing_columns.items():\n",
    "#     print(f\" - {col}: {count:,}개\")\n"
   ]
  },
  {
   "cell_type": "code",
   "execution_count": null,
   "id": "18aeaf9b",
   "metadata": {},
   "outputs": [],
   "source": []
  }
 ],
 "metadata": {
  "kernelspec": {
   "display_name": "real_estate_pred",
   "language": "python",
   "name": "python3"
  },
  "language_info": {
   "codemirror_mode": {
    "name": "ipython",
    "version": 3
   },
   "file_extension": ".py",
   "mimetype": "text/x-python",
   "name": "python",
   "nbconvert_exporter": "python",
   "pygments_lexer": "ipython3",
   "version": "3.9.23"
  }
 },
 "nbformat": 4,
 "nbformat_minor": 5
}
