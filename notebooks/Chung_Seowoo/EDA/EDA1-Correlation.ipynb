{
 "cells": [
  {
   "cell_type": "markdown",
   "id": "a06a052a-739b-4587-9c60-9511a3585026",
   "metadata": {},
   "source": [
    "### 🧠 결측치 처리 마인드맵\n",
    "\n",
    "<img src=\"./결측치 처리_마인드맵.png\" alt=\"결측치 마인드맵\" width=\"600\">"
   ]
  },
  {
   "cell_type": "code",
   "execution_count": 1,
   "id": "177b41d2-f72c-4739-975a-fbb5375d7aeb",
   "metadata": {},
   "outputs": [
    {
     "name": "stdout",
     "output_type": "stream",
     "text": [
      "Requirement already satisfied: eli5==0.13.0 in /opt/anaconda3/envs/real_estate_pred/lib/python3.9/site-packages (0.13.0)\n",
      "Requirement already satisfied: attrs>17.1.0 in /opt/anaconda3/envs/real_estate_pred/lib/python3.9/site-packages (from eli5==0.13.0) (25.3.0)\n",
      "Requirement already satisfied: jinja2>=3.0.0 in /opt/anaconda3/envs/real_estate_pred/lib/python3.9/site-packages (from eli5==0.13.0) (3.1.6)\n",
      "Requirement already satisfied: numpy>=1.9.0 in /opt/anaconda3/envs/real_estate_pred/lib/python3.9/site-packages (from eli5==0.13.0) (1.26.4)\n",
      "Requirement already satisfied: scipy in /opt/anaconda3/envs/real_estate_pred/lib/python3.9/site-packages (from eli5==0.13.0) (1.13.1)\n",
      "Requirement already satisfied: six in /opt/anaconda3/envs/real_estate_pred/lib/python3.9/site-packages (from eli5==0.13.0) (1.17.0)\n",
      "Requirement already satisfied: scikit-learn>=0.20 in /opt/anaconda3/envs/real_estate_pred/lib/python3.9/site-packages (from eli5==0.13.0) (1.6.1)\n",
      "Requirement already satisfied: graphviz in /opt/anaconda3/envs/real_estate_pred/lib/python3.9/site-packages (from eli5==0.13.0) (0.21)\n",
      "Requirement already satisfied: tabulate>=0.7.7 in /opt/anaconda3/envs/real_estate_pred/lib/python3.9/site-packages (from eli5==0.13.0) (0.9.0)\n",
      "Requirement already satisfied: MarkupSafe>=2.0 in /opt/anaconda3/envs/real_estate_pred/lib/python3.9/site-packages (from jinja2>=3.0.0->eli5==0.13.0) (3.0.2)\n",
      "Requirement already satisfied: joblib>=1.2.0 in /opt/anaconda3/envs/real_estate_pred/lib/python3.9/site-packages (from scikit-learn>=0.20->eli5==0.13.0) (1.5.1)\n",
      "Requirement already satisfied: threadpoolctl>=3.1.0 in /opt/anaconda3/envs/real_estate_pred/lib/python3.9/site-packages (from scikit-learn>=0.20->eli5==0.13.0) (3.6.0)\n"
     ]
    }
   ],
   "source": [
    "!pip install eli5==0.13.0\n",
    "\n",
    "# visualization\n",
    "import matplotlib.pyplot as plt\n",
    "import matplotlib.font_manager as fm\n",
    "fe = fm.FontEntry(\n",
    "    fname=r'/Users/chung/Library/Fonts/NanumGothic.otf', \n",
    "    name='NanumGothic')                     \n",
    "fm.fontManager.ttflist.insert(0, fe)              # Matplotlib에 폰트 추가 (0,fe):가장 우선순위로 추가하겠다는 뜻\n",
    "plt.rcParams.update({'font.size': 11, 'font.family': 'NanumGothic'}) # 폰트 설정\n",
    "plt.rc('font', family='NanumGothic')\n",
    "import seaborn as sns\n",
    "\n",
    "# utils\n",
    "import pandas as pd\n",
    "import numpy as np\n",
    "from tqdm import tqdm\n",
    "import pickle\n",
    "import warnings;warnings.filterwarnings('ignore')\n",
    "\n",
    "# Model\n",
    "from sklearn.preprocessing import LabelEncoder\n",
    "from sklearn.model_selection import train_test_split\n",
    "from sklearn.metrics import mean_squared_error\n",
    "from sklearn.ensemble import RandomForestRegressor\n",
    "from sklearn import metrics\n",
    "\n",
    "#import eli5\n",
    "#from eli5.sklearn import PermutationImportance"
   ]
  },
  {
   "cell_type": "code",
   "execution_count": 2,
   "id": "2e1a0bca-752c-4f4b-b7a6-6379f4d7fafc",
   "metadata": {},
   "outputs": [
    {
     "name": "stdout",
     "output_type": "stream",
     "text": [
      "<class 'pandas.core.frame.DataFrame'>\n",
      "Index: 1128094 entries, 0 to 9271\n",
      "Data columns (total 53 columns):\n",
      " #   Column                  Non-Null Count    Dtype  \n",
      "---  ------                  --------------    -----  \n",
      " 0   시군구                     1128094 non-null  object \n",
      " 1   번지                      1127867 non-null  object \n",
      " 2   본번                      1128019 non-null  float64\n",
      " 3   부번                      1128019 non-null  float64\n",
      " 4   아파트명                    1125958 non-null  object \n",
      " 5   전용면적                    1128094 non-null  float64\n",
      " 6   계약년월                    1128094 non-null  int64  \n",
      " 7   계약일                     1128094 non-null  int64  \n",
      " 8   층                       1128094 non-null  int64  \n",
      " 9   건축년도                    1128094 non-null  int64  \n",
      " 10  도로명                     1128094 non-null  object \n",
      " 11  해제사유발생일                 6195 non-null     float64\n",
      " 12  등기신청일자                  1128094 non-null  object \n",
      " 13  거래유형                    1128094 non-null  object \n",
      " 14  중개사소재지                  1128094 non-null  object \n",
      " 15  k-단지분류(아파트,주상복합등등)      250821 non-null   object \n",
      " 16  k-전화번호                  251244 non-null   object \n",
      " 17  k-팩스번호                  248746 non-null   object \n",
      " 18  단지소개기존clob              69136 non-null    float64\n",
      " 19  k-세대타입(분양형태)            251969 non-null   object \n",
      " 20  k-관리방식                  251969 non-null   object \n",
      " 21  k-복도유형                  251640 non-null   object \n",
      " 22  k-난방방식                  251969 non-null   object \n",
      " 23  k-전체동수                  250887 non-null   float64\n",
      " 24  k-전체세대수                 251969 non-null   float64\n",
      " 25  k-건설사(시공사)              250457 non-null   object \n",
      " 26  k-시행사                   250260 non-null   object \n",
      " 27  k-사용검사일-사용승인일           251835 non-null   object \n",
      " 28  k-연면적                   251969 non-null   float64\n",
      " 29  k-주거전용면적                251924 non-null   float64\n",
      " 30  k-관리비부과면적               251969 non-null   float64\n",
      " 31  k-전용면적별세대현황(60㎡이하)      251924 non-null   float64\n",
      " 32  k-전용면적별세대현황(60㎡~85㎡이하)  251924 non-null   float64\n",
      " 33  k-85㎡~135㎡이하            251924 non-null   float64\n",
      " 34  k-135㎡초과                329 non-null      float64\n",
      " 35  k-홈페이지                  114571 non-null   object \n",
      " 36  k-등록일자                  11708 non-null    object \n",
      " 37  k-수정일자                  251924 non-null   object \n",
      " 38  고용보험관리번호                207337 non-null   object \n",
      " 39  경비비관리형태                 250533 non-null   object \n",
      " 40  세대전기계약방법                242705 non-null   object \n",
      " 41  청소비관리형태                 250343 non-null   object \n",
      " 42  건축면적                    251815 non-null   float64\n",
      " 43  주차대수                    251817 non-null   float64\n",
      " 44  기타/의무/임대/임의=1/2/3/4     251969 non-null   object \n",
      " 45  단지승인일                   251240 non-null   object \n",
      " 46  사용허가여부                  251969 non-null   object \n",
      " 47  관리비 업로드                 251969 non-null   object \n",
      " 48  좌표X                     251862 non-null   float64\n",
      " 49  좌표Y                     251862 non-null   float64\n",
      " 50  단지신청일                   251907 non-null   object \n",
      " 51  target                  1118822 non-null  float64\n",
      " 52  data_type               1128094 non-null  object \n",
      "dtypes: float64(19), int64(4), object(30)\n",
      "memory usage: 464.8+ MB\n",
      "좌표X    float64\n",
      "좌표Y    float64\n",
      "dtype: object\n"
     ]
    }
   ],
   "source": [
    "pd.set_option('display.max_columns', None)   # 컬럼 모두 보이기\n",
    "pd.set_option('display.max_colwidth', None)  # 컬럼명 길어도 다 보이기\n",
    "\n",
    "train_path = '/Users/chung/JupyterNotebook/ML 경진대회/data/train.csv'\n",
    "test_path  = '/Users/chung/JupyterNotebook/ML 경진대회/data/test.csv'\n",
    "dt = pd.read_csv(train_path)\n",
    "dt_test = pd.read_csv(test_path)\n",
    "\n",
    "dt['data_type'] = 'train'\n",
    "dt_test['data_type'] = 'test'\n",
    "\n",
    "concat = pd.concat([dt, dt_test]) \n",
    "\n",
    "concat = concat.rename(columns={'전용면적(㎡)':'전용면적'}) #이름 변경\n",
    "concat.head(1)\n",
    "\n",
    "concat.info()\n",
    "\n",
    "print(concat[['좌표X', '좌표Y']].dtypes)\n"
   ]
  },
  {
   "cell_type": "code",
   "execution_count": 3,
   "id": "985b9781-6aa9-4483-8657-d037c07710e9",
   "metadata": {},
   "outputs": [
    {
     "name": "stdout",
     "output_type": "stream",
     "text": [
      "\n",
      "================================================================================\n",
      "\n",
      "\u001b[31m* 결측치가 100만개 이하인 변수들 :\u001b[0m ['시군구', '번지', '본번', '부번', '아파트명', '전용면적', '계약년월', '계약일', '층', '건축년도', '도로명', 'k-단지분류(아파트,주상복합등등)', 'k-전화번호', 'k-팩스번호', 'k-세대타입(분양형태)', 'k-관리방식', 'k-복도유형', 'k-난방방식', 'k-전체동수', 'k-전체세대수', 'k-건설사(시공사)', 'k-시행사', 'k-사용검사일-사용승인일', 'k-연면적', 'k-주거전용면적', 'k-관리비부과면적', 'k-전용면적별세대현황(60㎡이하)', 'k-전용면적별세대현황(60㎡~85㎡이하)', 'k-85㎡~135㎡이하', 'k-수정일자', '고용보험관리번호', '경비비관리형태', '세대전기계약방법', '청소비관리형태', '건축면적', '주차대수', '기타/의무/임대/임의=1/2/3/4', '단지승인일', '사용허가여부', '관리비 업로드', '좌표X', '좌표Y', '단지신청일', 'target', 'data_type']\n",
      "\n",
      "\n",
      "\n",
      "\u001b[31m* 결측치가 100만개 이상인 변수들 :\u001b[0m ['해제사유발생일', '등기신청일자', '거래유형', '중개사소재지', '단지소개기존clob', 'k-135㎡초과', 'k-홈페이지', 'k-등록일자']\n",
      "\n",
      "================================================================================\n",
      "\n",
      "<class 'pandas.core.frame.DataFrame'>\n",
      "Index: 1128094 entries, 0 to 9271\n",
      "Data columns (total 45 columns):\n",
      " #   Column                  Non-Null Count    Dtype  \n",
      "---  ------                  --------------    -----  \n",
      " 0   시군구                     1128094 non-null  object \n",
      " 1   번지                      1127867 non-null  object \n",
      " 2   본번                      1128019 non-null  float64\n",
      " 3   부번                      1128019 non-null  float64\n",
      " 4   아파트명                    1125958 non-null  object \n",
      " 5   전용면적                    1128094 non-null  float64\n",
      " 6   계약년월                    1128094 non-null  int64  \n",
      " 7   계약일                     1128094 non-null  int64  \n",
      " 8   층                       1128094 non-null  int64  \n",
      " 9   건축년도                    1128094 non-null  int64  \n",
      " 10  도로명                     1128094 non-null  object \n",
      " 11  k-단지분류(아파트,주상복합등등)      250821 non-null   object \n",
      " 12  k-전화번호                  251244 non-null   object \n",
      " 13  k-팩스번호                  248746 non-null   object \n",
      " 14  k-세대타입(분양형태)            251969 non-null   object \n",
      " 15  k-관리방식                  251969 non-null   object \n",
      " 16  k-복도유형                  251640 non-null   object \n",
      " 17  k-난방방식                  251969 non-null   object \n",
      " 18  k-전체동수                  250887 non-null   float64\n",
      " 19  k-전체세대수                 251969 non-null   float64\n",
      " 20  k-건설사(시공사)              250457 non-null   object \n",
      " 21  k-시행사                   250260 non-null   object \n",
      " 22  k-사용검사일-사용승인일           251835 non-null   object \n",
      " 23  k-연면적                   251969 non-null   float64\n",
      " 24  k-주거전용면적                251924 non-null   float64\n",
      " 25  k-관리비부과면적               251969 non-null   float64\n",
      " 26  k-전용면적별세대현황(60㎡이하)      251924 non-null   float64\n",
      " 27  k-전용면적별세대현황(60㎡~85㎡이하)  251924 non-null   float64\n",
      " 28  k-85㎡~135㎡이하            251924 non-null   float64\n",
      " 29  k-수정일자                  251924 non-null   object \n",
      " 30  고용보험관리번호                207337 non-null   object \n",
      " 31  경비비관리형태                 250533 non-null   object \n",
      " 32  세대전기계약방법                242705 non-null   object \n",
      " 33  청소비관리형태                 250343 non-null   object \n",
      " 34  건축면적                    251815 non-null   float64\n",
      " 35  주차대수                    251817 non-null   float64\n",
      " 36  기타/의무/임대/임의=1/2/3/4     251969 non-null   object \n",
      " 37  단지승인일                   251240 non-null   object \n",
      " 38  사용허가여부                  251969 non-null   object \n",
      " 39  관리비 업로드                 251969 non-null   object \n",
      " 40  좌표X                     251862 non-null   float64\n",
      " 41  좌표Y                     251862 non-null   float64\n",
      " 42  단지신청일                   251907 non-null   object \n",
      " 43  target                  1118822 non-null  float64\n",
      " 44  data_type               1128094 non-null  object \n",
      "dtypes: float64(16), int64(4), object(25)\n",
      "memory usage: 395.9+ MB\n"
     ]
    }
   ],
   "source": [
    "concat['등기신청일자'] = concat['등기신청일자'].replace(' ', np.nan)\n",
    "concat['거래유형'] = concat['거래유형'].replace('-', np.nan)\n",
    "concat['중개사소재지'] = concat['중개사소재지'].replace('-', np.nan) \n",
    "\n",
    "print(\"\\n\" + \"=\"*80 + \"\\n\") \n",
    "\n",
    "# Null값이 100만개 이상인 칼럼은 삭제 \n",
    "print(\"\\033[31m* 결측치가 100만개 이하인 변수들 :\\033[0m\", list(concat.columns[concat.isnull().sum() <= 1000000]))\n",
    "\n",
    "print(\"\\n\\n\")\n",
    "\n",
    "# 남겨질 변수들은 아래와 같습니다.\n",
    "print(\"\\033[31m* 결측치가 100만개 이상인 변수들 :\\033[0m\", list(concat.columns[concat.isnull().sum() >= 1000000]))\n",
    "\n",
    "print(\"\\n\" + \"=\"*80 + \"\\n\") \n",
    "\n",
    "# 위에서 결측치가 100만개 이하인 변수들만 골라 새로운 concat_select 객체로 저장해줍니다.\n",
    "selected = list(concat.columns[concat.isnull().sum() <= 1000000])\n",
    "concat_select = concat[selected]\n",
    "\n",
    "concat_select.info()"
   ]
  },
  {
   "cell_type": "markdown",
   "id": "e54fefd5-4aea-4283-81ed-61be1202e3fd",
   "metadata": {},
   "source": [
    "### 연속형 변수 vs. 범주형 변수 "
   ]
  },
  {
   "cell_type": "code",
   "execution_count": 4,
   "id": "f3928220-616f-4dfe-9bd8-6ac0dd397af3",
   "metadata": {},
   "outputs": [
    {
     "name": "stdout",
     "output_type": "stream",
     "text": [
      "📌 연속형 변수: ['전용면적', '계약년월', '계약일', '층', '건축년도', 'k-전체동수', 'k-전체세대수', 'k-연면적', 'k-주거전용면적', 'k-관리비부과면적', 'k-전용면적별세대현황(60㎡이하)', 'k-전용면적별세대현황(60㎡~85㎡이하)', 'k-85㎡~135㎡이하', '건축면적', '주차대수', '좌표X', '좌표Y', 'target']\n",
      "\n",
      "================================================================================\n",
      "\n",
      "📌 범주형 변수: ['시군구', '번지', '본번', '부번', '아파트명', '도로명', 'k-단지분류(아파트,주상복합등등)', 'k-전화번호', 'k-팩스번호', 'k-세대타입(분양형태)', 'k-관리방식', 'k-복도유형', 'k-난방방식', 'k-건설사(시공사)', 'k-시행사', 'k-사용검사일-사용승인일', 'k-수정일자', '고용보험관리번호', '경비비관리형태', '세대전기계약방법', '청소비관리형태', '기타/의무/임대/임의=1/2/3/4', '단지승인일', '사용허가여부', '관리비 업로드', '단지신청일', 'data_type']\n"
     ]
    }
   ],
   "source": [
    "concat_select['본번'] = concat_select['본번'].astype('str')\n",
    "concat_select['부번'] = concat_select['부번'].astype('str')\n",
    "\n",
    "# 먼저, 연속형 변수와 범주형 변수를 위 info에 따라 분리\n",
    "continuous_columns = []\n",
    "categorical_columns = []\n",
    "\n",
    "for column in concat_select.columns:\n",
    "    if pd.api.types.is_numeric_dtype(concat_select[column]):\n",
    "        continuous_columns.append(column)\n",
    "    else:\n",
    "        categorical_columns.append(column)\n",
    "\n",
    "print(\"📌 연속형 변수:\", continuous_columns)\n",
    "\n",
    "print(\"\\n\" + \"=\"*80 + \"\\n\") \n",
    "\n",
    "print(\"📌 범주형 변수:\", categorical_columns)"
   ]
  },
  {
   "cell_type": "code",
   "execution_count": 5,
   "id": "9a65c586-7cb0-48db-8276-2a1490ccefd9",
   "metadata": {},
   "outputs": [],
   "source": [
    "#범주형 변수 결측치 처리 \n",
    "\n",
    "concat_select[categorical_columns] = concat_select[categorical_columns].fillna('NULL')"
   ]
  },
  {
   "cell_type": "markdown",
   "id": "110f8feb-819f-4849-9e53-fe30d46713f6",
   "metadata": {},
   "source": [
    "### 연속형 변수의 상관계수 확인"
   ]
  },
  {
   "cell_type": "markdown",
   "id": "50f1ef9e-60a3-46f1-b5b2-0c3538cad65e",
   "metadata": {},
   "source": [
    "단계 & 목적\n",
    "\n",
    "1️⃣ 상관계수 행렬 계산: 연속형 변수들의 관계 파악\n",
    "2️⃣ 높은 상관 변수쌍 저장: 관계가 강한 변수들 찾기\n",
    "3️⃣ 양방향 중복 제거: (A,B) (B,A) 중복 제거\n",
    "4️⃣ 중요한 변수 목록: 히트맵 대상 변수 추출\n",
    "5️⃣ 작은 상관계수 행렬: 복잡도 낮춘 히트맵용\n",
    "6️⃣ 히트맵 시각화: 인사이트 확보\n",
    "7️⃣ 변수쌍 정리 출력: 사람이 직접 확인"
   ]
  },
  {
   "cell_type": "code",
   "execution_count": 6,
   "id": "538d62bc-61cf-4301-8a46-132618a0e6cc",
   "metadata": {},
   "outputs": [
    {
     "data": {
      "image/png": "[encoded data removed]",
      "text/plain": [
       "<Figure size 1000x800 with 2 Axes>"
      ]
     },
     "metadata": {},
     "output_type": "display_data"
    },
    {
     "name": "stdout",
     "output_type": "stream",
     "text": [
      "\n",
      "✅ 상관계수 높은 변수쌍 (정리):\n",
      "\n",
      "k-전체동수 ↔ k-전체세대수 : 0.866\n",
      "k-전체동수 ↔ k-주거전용면적 : 0.787\n",
      "k-관리비부과면적 ↔ k-전체동수 : 0.755\n",
      "k-연면적 ↔ k-전체세대수 : 0.819\n",
      "k-전체세대수 ↔ k-주거전용면적 : 0.93\n",
      "k-관리비부과면적 ↔ k-전체세대수 : 0.923\n",
      "k-전용면적별세대현황(60㎡~85㎡이하) ↔ k-전체세대수 : 0.73\n",
      "k-연면적 ↔ k-주거전용면적 : 0.904\n",
      "k-관리비부과면적 ↔ k-연면적 : 0.906\n",
      "k-연면적 ↔ k-전용면적별세대현황(60㎡~85㎡이하) : 0.734\n",
      "k-연면적 ↔ 주차대수 : 0.705\n",
      "k-관리비부과면적 ↔ k-주거전용면적 : 0.991\n",
      "k-전용면적별세대현황(60㎡~85㎡이하) ↔ k-주거전용면적 : 0.774\n",
      "k-주거전용면적 ↔ 주차대수 : 0.749\n",
      "k-관리비부과면적 ↔ k-전용면적별세대현황(60㎡~85㎡이하) : 0.797\n",
      "k-관리비부과면적 ↔ 주차대수 : 0.746\n"
     ]
    }
   ],
   "source": [
    "# 1. 상관계수 행렬 계산\n",
    "corr_matrix = concat_select[continuous_columns].corr()\n",
    "\n",
    "# 2. 상관계수 높은 변수쌍 저장용 리스트\n",
    "high_corr_pairs = []\n",
    "seen_pairs = set() #양방향 중복 제거를 위한 set추가 \n",
    "\n",
    "# 3. 상관계수 높은 변수쌍 추출\n",
    "threshold = 0.7\n",
    "\n",
    "for col in continuous_columns:\n",
    "    # 절대값 기준 0.7 초과 & 자기 자신 제외\n",
    "    high_corr = corr_matrix[col][(corr_matrix[col].abs() > threshold) & (corr_matrix[col].abs() < 1)]\n",
    "    for related_col in high_corr.index:\n",
    "        # 변수명 알파벳 순으로 정렬해서 튜플화\n",
    "        pair = tuple(sorted([col, related_col]))\n",
    "        \n",
    "        # 중복 쌍이면 건너뛰기\n",
    "        if pair in seen_pairs:\n",
    "            continue\n",
    "        \n",
    "        seen_pairs.add(pair)  # 새로운 쌍 기록\n",
    "        high_corr_pairs.append((pair[0], pair[1], round(high_corr[related_col], 3)))\n",
    "\n",
    "# 4. 중복 방지 변수 set 만들기\n",
    "important_cols = set()\n",
    "for col1, col2, _ in high_corr_pairs:\n",
    "    important_cols.add(col1)\n",
    "    important_cols.add(col2)\n",
    "important_cols = list(important_cols)\n",
    "\n",
    "# 5. 상관계수 행렬 (작은 히트맵용)\n",
    "small_corr_matrix = concat_select[important_cols].corr()\n",
    "\n",
    "# 6. 히트맵 그리기\n",
    "plt.figure(figsize=(10,8))\n",
    "sns.heatmap(small_corr_matrix, annot=True, fmt='.2f', cmap='coolwarm', square=True, linewidths=0.5)\n",
    "plt.title('상관계수 높은 변수들 히트맵', fontsize=15)\n",
    "plt.show()\n",
    "\n",
    "# 7. 보기 좋은 변수쌍 출력 (Optional)\n",
    "print(\"\\n✅ 상관계수 높은 변수쌍 (정리):\\n\")\n",
    "for var1, var2, corr_value in high_corr_pairs:\n",
    "    print(f\"{var1} ↔ {var2} : {corr_value}\")"
   ]
  },
  {
   "cell_type": "code",
   "execution_count": 7,
   "id": "3912ce16-60aa-4677-8511-93e87d35aa72",
   "metadata": {},
   "outputs": [
    {
     "data": {
      "text/html": [
       "<div>\n",
       "<style scoped>\n",
       "    .dataframe tbody tr th:only-of-type {\n",
       "        vertical-align: middle;\n",
       "    }\n",
       "\n",
       "    .dataframe tbody tr th {\n",
       "        vertical-align: top;\n",
       "    }\n",
       "\n",
       "    .dataframe thead th {\n",
       "        text-align: right;\n",
       "    }\n",
       "</style>\n",
       "<table border=\"1\" class=\"dataframe\">\n",
       "  <thead>\n",
       "    <tr style=\"text-align: right;\">\n",
       "      <th></th>\n",
       "      <th>Missing_Count</th>\n",
       "      <th>Total_Count</th>\n",
       "      <th>Missing_Rate(%)</th>\n",
       "    </tr>\n",
       "  </thead>\n",
       "  <tbody>\n",
       "    <tr>\n",
       "      <th>k-전체동수</th>\n",
       "      <td>877207</td>\n",
       "      <td>1128094</td>\n",
       "      <td>77.76</td>\n",
       "    </tr>\n",
       "    <tr>\n",
       "      <th>주차대수</th>\n",
       "      <td>876277</td>\n",
       "      <td>1128094</td>\n",
       "      <td>77.68</td>\n",
       "    </tr>\n",
       "    <tr>\n",
       "      <th>k-전용면적별세대현황(60㎡~85㎡이하)</th>\n",
       "      <td>876170</td>\n",
       "      <td>1128094</td>\n",
       "      <td>77.67</td>\n",
       "    </tr>\n",
       "    <tr>\n",
       "      <th>k-주거전용면적</th>\n",
       "      <td>876170</td>\n",
       "      <td>1128094</td>\n",
       "      <td>77.67</td>\n",
       "    </tr>\n",
       "    <tr>\n",
       "      <th>k-전체세대수</th>\n",
       "      <td>876125</td>\n",
       "      <td>1128094</td>\n",
       "      <td>77.66</td>\n",
       "    </tr>\n",
       "    <tr>\n",
       "      <th>k-관리비부과면적</th>\n",
       "      <td>876125</td>\n",
       "      <td>1128094</td>\n",
       "      <td>77.66</td>\n",
       "    </tr>\n",
       "    <tr>\n",
       "      <th>k-연면적</th>\n",
       "      <td>876125</td>\n",
       "      <td>1128094</td>\n",
       "      <td>77.66</td>\n",
       "    </tr>\n",
       "  </tbody>\n",
       "</table>\n",
       "</div>"
      ],
      "text/plain": [
       "                        Missing_Count  Total_Count  Missing_Rate(%)\n",
       "k-전체동수                         877207      1128094            77.76\n",
       "주차대수                           876277      1128094            77.68\n",
       "k-전용면적별세대현황(60㎡~85㎡이하)         876170      1128094            77.67\n",
       "k-주거전용면적                       876170      1128094            77.67\n",
       "k-전체세대수                        876125      1128094            77.66\n",
       "k-관리비부과면적                      876125      1128094            77.66\n",
       "k-연면적                          876125      1128094            77.66"
      ]
     },
     "metadata": {},
     "output_type": "display_data"
    }
   ],
   "source": [
    "# 1. high_corr_pairs에서 변수 추출 (중복 제거)\n",
    "corr_vars = set()\n",
    "for var1, var2, _ in high_corr_pairs:\n",
    "    corr_vars.add(var1)\n",
    "    corr_vars.add(var2)\n",
    "\n",
    "# 2. 결측치 현황 DataFrame 생성\n",
    "missing_corr = concat_select[list(corr_vars)].isnull().sum().to_frame(name='Missing_Count')\n",
    "missing_corr['Total_Count'] = len(concat_select)\n",
    "missing_corr['Missing_Rate(%)'] = (missing_corr['Missing_Count'] / missing_corr['Total_Count'] * 100).round(2)\n",
    "\n",
    "# 3. 보기 좋게 출력\n",
    "from IPython.display import display\n",
    "\n",
    "display(missing_corr.sort_values(by='Missing_Count', ascending=False))\n"
   ]
  },
  {
   "cell_type": "markdown",
   "id": "b3695bd1-fe2b-4953-b1a2-d12029b62e09",
   "metadata": {},
   "source": [
    "k-전용면적별세대현황(60㎡~85㎡이하)는 뒤에서 k-전용면적별세대현황(60㎡이하),k-85㎡~135㎡이하와 함께 한번에 처리할 것. 실제로 세대수가 없었을 가능성이 더 높다고 생각. 상관계수와 상관 없이 결측치 0으로 처리"
   ]
  },
  {
   "cell_type": "code",
   "execution_count": 8,
   "id": "f0c2b6e9-6546-4274-a1a3-c252f3f527b4",
   "metadata": {},
   "outputs": [
    {
     "name": "stdout",
     "output_type": "stream",
     "text": [
      "✅ 제거된 변수: ['k-관리비부과면적', 'k-전체세대수', 'k-연면적']\n",
      "✅ 제거 후 컬럼 수: 42\n"
     ]
    }
   ],
   "source": [
    "# 우선 제거 대상 변수\n",
    "remove_cols = ['k-관리비부과면적', 'k-전체세대수', 'k-연면적']\n",
    "\n",
    "# 제거 적용\n",
    "reduced_data = concat_select.drop(columns=remove_cols)\n",
    "\n",
    "print(\"✅ 제거된 변수:\", remove_cols)\n",
    "print(\"✅ 제거 후 컬럼 수:\", reduced_data.shape[1])"
   ]
  },
  {
   "cell_type": "markdown",
   "id": "e867df46-d488-4dc2-80f5-f6a4e5817dc0",
   "metadata": {},
   "source": [
    "상관계수 0.9이상인 변수 중 우선 제거 대상 변수 제거해줌."
   ]
  },
  {
   "cell_type": "markdown",
   "id": "1ed8f36b-8efb-4e6d-a123-5141619ebf97",
   "metadata": {},
   "source": [
    "✅ **남은 변수쌍**\n",
    "\n",
    "- `k-전체동수` ↔ `k-주거전용면적` : **0.787**\n",
    "- `k-주거전용면적` ↔ `주차대수` : **0.749**"
   ]
  },
  {
   "cell_type": "code",
   "execution_count": 9,
   "id": "73caf0aa-ea2a-406a-aef0-cc7852254dfd",
   "metadata": {},
   "outputs": [
    {
     "name": "stdout",
     "output_type": "stream",
     "text": [
      "✅ 선형 보간 후 결측치:\n",
      " k-전체동수      0\n",
      "k-주거전용면적    0\n",
      "주차대수        0\n",
      "dtype: int64\n"
     ]
    }
   ],
   "source": [
    "# 보간 대상 변수 목록\n",
    "interpolate_cols = ['k-전체동수', 'k-주거전용면적', '주차대수']\n",
    "\n",
    "# 선형 보간 적용 (각 컬럼별로 독립적으로)\n",
    "for col in interpolate_cols:\n",
    "    reduced_data[col] = reduced_data[col].interpolate(method='linear', limit_direction='both')\n",
    "\n",
    "# 결측치 확인\n",
    "missing_after = reduced_data[interpolate_cols].isnull().sum()\n",
    "print(\"✅ 선형 보간 후 결측치:\\n\", missing_after)\n"
   ]
  },
  {
   "cell_type": "markdown",
   "id": "2970cd8b-db04-4110-a439-75e8ca9ae646",
   "metadata": {},
   "source": [
    "### ~~낮은 상관계수 처리~~"
   ]
  },
  {
   "cell_type": "code",
   "execution_count": 10,
   "id": "6915241c-668f-47b6-9041-5daab5be23ef",
   "metadata": {},
   "outputs": [],
   "source": [
    "# 변수별 최대 상관계수 찾기 \n",
    "# 1. 절대값 상관계수 계산\n",
    "abs_corr_matrix = corr_matrix.abs()\n",
    "\n",
    "# 2. 변수별 '자기 자신' 제외한 최대 상관계수 찾기\n",
    "max_corr_per_var = {}\n",
    "\n",
    "for col in continuous_columns:\n",
    "    max_corr = abs_corr_matrix[col].drop(col).max()  # 자기 자신 제외\n",
    "    max_corr_per_var[col] = max_corr"
   ]
  },
  {
   "cell_type": "code",
   "execution_count": 11,
   "id": "973226ce-b7a7-49b0-bfd5-92f281e09fd3",
   "metadata": {},
   "outputs": [
    {
     "name": "stdout",
     "output_type": "stream",
     "text": [
      "✅ 단독 보간 후보 변수: ['전용면적', '계약년월', '계약일', '층', '건축년도', 'k-전용면적별세대현황(60㎡이하)', 'k-85㎡~135㎡이하', '건축면적', '좌표X', '좌표Y', 'target']\n"
     ]
    }
   ],
   "source": [
    "# 임계값: 0.7 이하 → 상관계수 낮음 → 단독 보간\n",
    "auto_solo_features = [var for var, corr in max_corr_per_var.items() if corr < 0.7]\n",
    "\n",
    "print(\"✅ 단독 보간 후보 변수:\", auto_solo_features)"
   ]
  },
  {
   "cell_type": "code",
   "execution_count": 12,
   "id": "fa10cbde-4f93-41cf-b4d2-a4b8316e51ce",
   "metadata": {},
   "outputs": [
    {
     "name": "stdout",
     "output_type": "stream",
     "text": [
      "✅ 단독 보간 후보 변수들의 결측치 개수:\n",
      "건축면적                  876279\n",
      "좌표X                   876232\n",
      "좌표Y                   876232\n",
      "k-전용면적별세대현황(60㎡이하)    876170\n",
      "k-85㎡~135㎡이하          876170\n",
      "target                  9272\n",
      "전용면적                       0\n",
      "계약년월                       0\n",
      "계약일                        0\n",
      "층                          0\n",
      "건축년도                       0\n",
      "dtype: int64\n"
     ]
    }
   ],
   "source": [
    "solo_vars = ['전용면적', '계약년월', '계약일', '층', '건축년도', 'k-전용면적별세대현황(60㎡이하)', 'k-85㎡~135㎡이하', '건축면적', '좌표X', '좌표Y', 'target']\n",
    "\n",
    "# 결측치 개수 확인\n",
    "missing_counts = concat_select[solo_vars].isnull().sum().sort_values(ascending=False)\n",
    "\n",
    "print(\"✅ 단독 보간 후보 변수들의 결측치 개수:\")\n",
    "print(missing_counts)"
   ]
  },
  {
   "cell_type": "code",
   "execution_count": 13,
   "id": "14f74a40-bc67-4be6-9f5d-1a525b4c34f1",
   "metadata": {},
   "outputs": [
    {
     "data": {
      "text/html": [
       "<div>\n",
       "<style scoped>\n",
       "    .dataframe tbody tr th:only-of-type {\n",
       "        vertical-align: middle;\n",
       "    }\n",
       "\n",
       "    .dataframe tbody tr th {\n",
       "        vertical-align: top;\n",
       "    }\n",
       "\n",
       "    .dataframe thead th {\n",
       "        text-align: right;\n",
       "    }\n",
       "</style>\n",
       "<table border=\"1\" class=\"dataframe\">\n",
       "  <thead>\n",
       "    <tr style=\"text-align: right;\">\n",
       "      <th></th>\n",
       "      <th>Missing_Count</th>\n",
       "      <th>Total_Count</th>\n",
       "      <th>Missing_Rate(%)</th>\n",
       "    </tr>\n",
       "  </thead>\n",
       "  <tbody>\n",
       "    <tr>\n",
       "      <th>건축면적</th>\n",
       "      <td>876279</td>\n",
       "      <td>1128094</td>\n",
       "      <td>77.68</td>\n",
       "    </tr>\n",
       "    <tr>\n",
       "      <th>좌표X</th>\n",
       "      <td>876232</td>\n",
       "      <td>1128094</td>\n",
       "      <td>77.67</td>\n",
       "    </tr>\n",
       "    <tr>\n",
       "      <th>좌표Y</th>\n",
       "      <td>876232</td>\n",
       "      <td>1128094</td>\n",
       "      <td>77.67</td>\n",
       "    </tr>\n",
       "    <tr>\n",
       "      <th>k-전용면적별세대현황(60㎡이하)</th>\n",
       "      <td>876170</td>\n",
       "      <td>1128094</td>\n",
       "      <td>77.67</td>\n",
       "    </tr>\n",
       "    <tr>\n",
       "      <th>k-85㎡~135㎡이하</th>\n",
       "      <td>876170</td>\n",
       "      <td>1128094</td>\n",
       "      <td>77.67</td>\n",
       "    </tr>\n",
       "    <tr>\n",
       "      <th>target</th>\n",
       "      <td>9272</td>\n",
       "      <td>1128094</td>\n",
       "      <td>0.82</td>\n",
       "    </tr>\n",
       "    <tr>\n",
       "      <th>전용면적</th>\n",
       "      <td>0</td>\n",
       "      <td>1128094</td>\n",
       "      <td>0.00</td>\n",
       "    </tr>\n",
       "    <tr>\n",
       "      <th>계약년월</th>\n",
       "      <td>0</td>\n",
       "      <td>1128094</td>\n",
       "      <td>0.00</td>\n",
       "    </tr>\n",
       "    <tr>\n",
       "      <th>계약일</th>\n",
       "      <td>0</td>\n",
       "      <td>1128094</td>\n",
       "      <td>0.00</td>\n",
       "    </tr>\n",
       "    <tr>\n",
       "      <th>층</th>\n",
       "      <td>0</td>\n",
       "      <td>1128094</td>\n",
       "      <td>0.00</td>\n",
       "    </tr>\n",
       "    <tr>\n",
       "      <th>건축년도</th>\n",
       "      <td>0</td>\n",
       "      <td>1128094</td>\n",
       "      <td>0.00</td>\n",
       "    </tr>\n",
       "  </tbody>\n",
       "</table>\n",
       "</div>"
      ],
      "text/plain": [
       "                    Missing_Count  Total_Count  Missing_Rate(%)\n",
       "건축면적                       876279      1128094            77.68\n",
       "좌표X                        876232      1128094            77.67\n",
       "좌표Y                        876232      1128094            77.67\n",
       "k-전용면적별세대현황(60㎡이하)         876170      1128094            77.67\n",
       "k-85㎡~135㎡이하               876170      1128094            77.67\n",
       "target                       9272      1128094             0.82\n",
       "전용면적                            0      1128094             0.00\n",
       "계약년월                            0      1128094             0.00\n",
       "계약일                             0      1128094             0.00\n",
       "층                               0      1128094             0.00\n",
       "건축년도                            0      1128094             0.00"
      ]
     },
     "metadata": {},
     "output_type": "display_data"
    }
   ],
   "source": [
    "# 결측률까지 한번에 \n",
    "\n",
    "missing_info = concat_select[solo_vars].isnull().sum().to_frame(name='Missing_Count')\n",
    "missing_info['Total_Count'] = len(concat_select)\n",
    "missing_info['Missing_Rate(%)'] = (missing_info['Missing_Count'] / missing_info['Total_Count'] * 100).round(2)\n",
    "\n",
    "missing_info = missing_info.sort_values(by='Missing_Count', ascending=False)\n",
    "\n",
    "display(missing_info)  # 표 형태로 출력"
   ]
  },
  {
   "cell_type": "code",
   "execution_count": 14,
   "id": "d6788f40-16e2-4bc1-b239-a57272df47c0",
   "metadata": {},
   "outputs": [
    {
     "name": "stdout",
     "output_type": "stream",
     "text": [
      "k-전용면적별세대현황(60㎡이하)        0\n",
      "k-전용면적별세대현황(60㎡~85㎡이하)    0\n",
      "k-85㎡~135㎡이하              0\n",
      "dtype: int64\n"
     ]
    }
   ],
   "source": [
    "# 결측 → 0으로 처리할 변수 리스트\n",
    "zero_fill_cols = [\n",
    "    'k-전용면적별세대현황(60㎡이하)',\n",
    "    'k-전용면적별세대현황(60㎡~85㎡이하)',\n",
    "    'k-85㎡~135㎡이하'\n",
    "]\n",
    "\n",
    "# 결측치 → 0으로 채우기 (inplace 적용)\n",
    "reduced_data[zero_fill_cols] = reduced_data[zero_fill_cols].fillna(0)\n",
    "\n",
    "# 적용 결과 확인 (선택)\n",
    "print(reduced_data[zero_fill_cols].isnull().sum())"
   ]
  },
  {
   "cell_type": "code",
   "execution_count": 15,
   "id": "43dc3f8a-7367-402e-b73a-8635e1b4b10a",
   "metadata": {},
   "outputs": [
    {
     "name": "stdout",
     "output_type": "stream",
     "text": [
      "✅ 건축면적 보간 후 결측치 개수: 0\n"
     ]
    }
   ],
   "source": [
    "#건축 면적 선형 보간 \n",
    "\n",
    "reduced_data['건축면적'] = reduced_data['건축면적'].interpolate(method='linear')\n",
    "\n",
    "print(\"✅ 건축면적 보간 후 결측치 개수:\", reduced_data['건축면적'].isnull().sum())"
   ]
  },
  {
   "cell_type": "code",
   "execution_count": 16,
   "id": "9c17dd22-b7ec-40b6-862d-d1395444d033",
   "metadata": {},
   "outputs": [
    {
     "name": "stdout",
     "output_type": "stream",
     "text": [
      "✅ '좌표X' 남은 결측치: 658115\n",
      "✅ '좌표Y' 남은 결측치: 658115\n"
     ]
    }
   ],
   "source": [
    "# X,Y 좌표 \n",
    "# 좌표 보유 데이터로 딕셔너리 만들기\n",
    "x_map = reduced_data.dropna(subset=['좌표X']).set_index('번지')['좌표X'].to_dict()\n",
    "y_map = reduced_data.dropna(subset=['좌표Y']).set_index('번지')['좌표Y'].to_dict()\n",
    "\n",
    "# 결측치 채우기\n",
    "reduced_data['좌표X'] = reduced_data['좌표X'].fillna(reduced_data['번지'].map(x_map))\n",
    "reduced_data['좌표Y'] = reduced_data['좌표Y'].fillna(reduced_data['번지'].map(y_map))\n",
    "\n",
    "# ✅ 결측치 개수 확인\n",
    "missing_x = reduced_data['좌표X'].isnull().sum()\n",
    "missing_y = reduced_data['좌표Y'].isnull().sum()\n",
    "\n",
    "print(f\"✅ '좌표X' 남은 결측치: {missing_x}\")\n",
    "print(f\"✅ '좌표Y' 남은 결측치: {missing_y}\")\n"
   ]
  },
  {
   "cell_type": "code",
   "execution_count": 17,
   "id": "0f1cd1c8-1b7e-4efc-85c6-acee997048f6",
   "metadata": {},
   "outputs": [
    {
     "data": {
      "text/html": [
       "<div>\n",
       "<style scoped>\n",
       "    .dataframe tbody tr th:only-of-type {\n",
       "        vertical-align: middle;\n",
       "    }\n",
       "\n",
       "    .dataframe tbody tr th {\n",
       "        vertical-align: top;\n",
       "    }\n",
       "\n",
       "    .dataframe thead th {\n",
       "        text-align: right;\n",
       "    }\n",
       "</style>\n",
       "<table border=\"1\" class=\"dataframe\">\n",
       "  <thead>\n",
       "    <tr style=\"text-align: right;\">\n",
       "      <th></th>\n",
       "      <th>Missing_Count</th>\n",
       "      <th>Total_Count</th>\n",
       "      <th>Missing_Rate(%)</th>\n",
       "    </tr>\n",
       "  </thead>\n",
       "  <tbody>\n",
       "    <tr>\n",
       "      <th>좌표X</th>\n",
       "      <td>658115</td>\n",
       "      <td>1128094</td>\n",
       "      <td>58.34</td>\n",
       "    </tr>\n",
       "    <tr>\n",
       "      <th>좌표Y</th>\n",
       "      <td>658115</td>\n",
       "      <td>1128094</td>\n",
       "      <td>58.34</td>\n",
       "    </tr>\n",
       "    <tr>\n",
       "      <th>target</th>\n",
       "      <td>9272</td>\n",
       "      <td>1128094</td>\n",
       "      <td>0.82</td>\n",
       "    </tr>\n",
       "  </tbody>\n",
       "</table>\n",
       "</div>"
      ],
      "text/plain": [
       "        Missing_Count  Total_Count  Missing_Rate(%)\n",
       "좌표X            658115      1128094            58.34\n",
       "좌표Y            658115      1128094            58.34\n",
       "target           9272      1128094             0.82"
      ]
     },
     "metadata": {},
     "output_type": "display_data"
    }
   ],
   "source": [
    "# 결측치 개수 및 비율 계산\n",
    "missing_summary = reduced_data.isnull().sum().to_frame(name='Missing_Count')\n",
    "missing_summary['Total_Count'] = len(reduced_data)\n",
    "missing_summary['Missing_Rate(%)'] = (missing_summary['Missing_Count'] / missing_summary['Total_Count'] * 100).round(2)\n",
    "\n",
    "# 결측치 많은 순으로 정렬해서 보기 좋게 출력\n",
    "missing_summary = missing_summary[missing_summary['Missing_Count'] > 0]  # 결측치 있는 컬럼만\n",
    "missing_summary = missing_summary.sort_values(by='Missing_Count', ascending=False)\n",
    "\n",
    "from IPython.display import display\n",
    "display(missing_summary)"
   ]
  },
  {
   "cell_type": "code",
   "execution_count": null,
   "id": "1aa2dd94-5c1c-4c21-9db3-997b8825ed4e",
   "metadata": {},
   "outputs": [],
   "source": []
  },
  {
   "cell_type": "code",
   "execution_count": null,
   "id": "8d03f35f-f675-4ac5-9594-2a1262c8ab3c",
   "metadata": {},
   "outputs": [],
   "source": []
  },
  {
   "cell_type": "code",
   "execution_count": null,
   "id": "4a4660bd-4ba0-443f-b302-e06219666afb",
   "metadata": {},
   "outputs": [],
   "source": []
  }
 ],
 "metadata": {
  "kernelspec": {
   "display_name": "real_estate_pred",
   "language": "python",
   "name": "python3"
  },
  "language_info": {
   "codemirror_mode": {
    "name": "ipython",
    "version": 3
   },
   "file_extension": ".py",
   "mimetype": "text/x-python",
   "name": "python",
   "nbconvert_exporter": "python",
   "pygments_lexer": "ipython3",
   "version": "3.9.23"
  }
 },
 "nbformat": 4,
 "nbformat_minor": 5
}
